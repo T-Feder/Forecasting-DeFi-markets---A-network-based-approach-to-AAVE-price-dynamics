{
 "cells": [
  {
   "cell_type": "markdown",
   "id": "edfed2ec",
   "metadata": {},
   "source": [
    "### TODO\n",
    "* positionSnapshots (suppl. accounts and positions)\n",
    "* dailyMarketSnapshots (suppl. markets)\n",
    "* events: deposits, withdraws, borrows, repays, liquidates, transfers, flashloans"
   ]
  },
  {
   "cell_type": "code",
   "execution_count": 1,
   "id": "b5d8f29f",
   "metadata": {},
   "outputs": [],
   "source": [
    "import requests\n",
    "import pandas as pd\n",
    "import numpy as np\n",
    "import time\n",
    "import pickle\n",
    "import json\n",
    "import os\n",
    "import random"
   ]
  },
  {
   "cell_type": "code",
   "execution_count": 2,
   "id": "35d15744",
   "metadata": {},
   "outputs": [],
   "source": [
    "def to_timestamp(date):\n",
    "    return int(date.timestamp())"
   ]
  },
  {
   "cell_type": "code",
   "execution_count": 3,
   "id": "34d9ac61",
   "metadata": {},
   "outputs": [],
   "source": [
    "def run_query(api, query): # A simple function to use requests.post to make the API call. Note the json= section.\n",
    "    request = requests.post(api, json={'query': query})\n",
    "    if request.status_code == 200:\n",
    "        return request.json()\n",
    "    else:\n",
    "        raise Exception(\"Query failed to run by returning code of {}. {}\".format(request.status_code, query))"
   ]
  },
  {
   "cell_type": "code",
   "execution_count": 4,
   "id": "ad92f8a7",
   "metadata": {},
   "outputs": [],
   "source": [
    "def get_query_string(start_time, end_time, skip=0):\n",
    "    query = '''{\n",
    "      positionSnapshots(\n",
    "        where: {timestamp_gt: ''' + str(start_time) + ''', timestamp_lt: ''' + str(end_time) + '''}\n",
    "        first: 1000\n",
    "        skip: ''' + str(skip) + ''' \n",
    "        orderBy: timestamp\n",
    "      ) {\n",
    "        account {\n",
    "          id\n",
    "        }\n",
    "        position {\n",
    "          id\n",
    "          asset {\n",
    "            id\n",
    "            symbol\n",
    "          }\n",
    "          market {\n",
    "            id\n",
    "            name\n",
    "          }\n",
    "          isCollateral\n",
    "          isIsolated\n",
    "          side\n",
    "          type\n",
    "          _eMode\n",
    "        }\n",
    "        balance\n",
    "        balanceUSD\n",
    "        blockNumber\n",
    "        hash\n",
    "        id\n",
    "        index\n",
    "        logIndex\n",
    "        nonce\n",
    "        principal\n",
    "        timestamp\n",
    "      }\n",
    "    }'''\n",
    "    return query"
   ]
  },
  {
   "cell_type": "markdown",
   "id": "8656120f",
   "metadata": {},
   "source": [
    "# For Compound V3\n",
    "def get_query_string(start_time, end_time, skip=0):\n",
    "    query = '''{\n",
    "      positionSnapshots(\n",
    "        where: {timestamp_gt: ''' + str(start_time) + ''', timestamp_lt: ''' + str(end_time) + '''}\n",
    "        first: 1000\n",
    "        skip: ''' + str(skip) + ''' \n",
    "        orderBy: timestamp\n",
    "      ) {\n",
    "        account {\n",
    "          id\n",
    "        }\n",
    "        position {\n",
    "          id\n",
    "          asset {\n",
    "            id\n",
    "            symbol\n",
    "          }\n",
    "          market {\n",
    "            id\n",
    "            name\n",
    "          }\n",
    "          isCollateral\n",
    "          isIsolated\n",
    "          side\n",
    "          type\n",
    "        }\n",
    "        balance\n",
    "        balanceUSD\n",
    "        blockNumber\n",
    "        hash\n",
    "        id\n",
    "        index\n",
    "        logIndex\n",
    "        nonce\n",
    "        principal\n",
    "        timestamp\n",
    "      }\n",
    "    }'''\n",
    "    return query"
   ]
  },
  {
   "cell_type": "markdown",
   "id": "1db90667",
   "metadata": {},
   "source": [
    "# For Compound V2\n",
    "def get_query_string(start_time, end_time, skip=0):\n",
    "    query = '''{\n",
    "      positionSnapshots(\n",
    "        where: {timestamp_gt: ''' + str(start_time) + ''', timestamp_lt: ''' + str(end_time) + '''}\n",
    "        first: 1000\n",
    "        skip: ''' + str(skip) + ''' \n",
    "        orderBy: timestamp\n",
    "      ) {\n",
    "        balance\n",
    "            blockNumber\n",
    "            hash\n",
    "            id\n",
    "            logIndex\n",
    "            nonce\n",
    "            timestamp\n",
    "            position {\n",
    "              id\n",
    "              isCollateral\n",
    "              side\n",
    "              account {\n",
    "                id\n",
    "              }\n",
    "              market {\n",
    "                id\n",
    "                name\n",
    "              }\n",
    "            }\n",
    "          }\n",
    "    }'''\n",
    "    return query"
   ]
  },
  {
   "cell_type": "code",
   "execution_count": 5,
   "id": "5566e0a5",
   "metadata": {},
   "outputs": [],
   "source": [
    "def query_snapshots(api, start_time, end_time):\n",
    "    all_results = list()\n",
    "    for i in range(0, 6000, 1000):\n",
    "        query = get_query_string(start_time, end_time, skip=i)\n",
    "        result = run_query(api, query)['data']['positionSnapshots']\n",
    "        all_results.extend(result)\n",
    "        if len(result) < 1000: break\n",
    "    return all_results"
   ]
  },
  {
   "cell_type": "code",
   "execution_count": 6,
   "id": "8eb722dc",
   "metadata": {},
   "outputs": [],
   "source": [
    "d = dict()\n",
    "d['AAVE V2 Ethereum'] = ('https://api.thegraph.com/subgraphs/name/messari/aave-v2-ethereum', '2020-11-30')\n",
    "d['AAVE V3 Ethereum'] = ('https://api.thegraph.com/subgraphs/name/messari/aave-v3-ethereum', '2023-01-27')\n",
    "d['Compound V2 Ethereum'] = ('https://api.thegraph.com/subgraphs/name/messari/compound-v2-ethereum', '2019-05-07')\n",
    "d['Compound V3 Ethereum'] = ('https://api.thegraph.com/subgraphs/name/messari/compound-v3-ethereum', '2022-08-26')"
   ]
  },
  {
   "cell_type": "code",
   "execution_count": 7,
   "id": "e4af6dac",
   "metadata": {},
   "outputs": [],
   "source": [
    "subgraph = 'AAVE V2 Ethereum'\n",
    "api = d[subgraph][0]\n",
    "folder = f'Messari/{subgraph}/positionSnapshots'"
   ]
  },
  {
   "cell_type": "code",
   "execution_count": 8,
   "id": "269cb63f",
   "metadata": {},
   "outputs": [],
   "source": [
    "#start_date, end_date = d[subgraph][1], '2024-01-01'\n",
    "start_date, end_date = '2023-11-01', '2024-01-01'\n",
    "all_dates = pd.date_range(start=start_date, end=end_date).tolist()\n",
    "all_dates = list(map(lambda date: int(date.timestamp()), all_dates))"
   ]
  },
  {
   "cell_type": "code",
   "execution_count": 9,
   "id": "77014497",
   "metadata": {
    "scrolled": true
   },
   "outputs": [],
   "source": [
    "all_dates_stack = all_dates.copy()[::-1]\n",
    "while len(all_dates_stack) > 1:\n",
    "    (start_time, end_time) = int(all_dates_stack.pop()), int(all_dates_stack[-1])\n",
    "    \n",
    "    if os.path.isfile(f'{folder}/positionSnapshots_{start_time}_{end_time}.json'):\n",
    "        continue\n",
    "    \n",
    "    temp = query_snapshots(api, start_time, end_time)\n",
    "    \n",
    "    if len(temp) >= 6000:\n",
    "        print(\"Extend\", start_time, end_time, len(temp))\n",
    "        all_dates_stack.extend(np.linspace(int(start_time), int(end_time), num=5)[:-1][::-1])\n",
    "        continue\n",
    "    \n",
    "    print(\"Write\", start_time, end_time, len(temp))\n",
    "    with open(f'{folder}/positionSnapshots_{start_time}_{end_time}.json', 'w') as outfile:\n",
    "        outfile.write(json.dumps(temp))"
   ]
  },
  {
   "cell_type": "code",
   "execution_count": null,
   "id": "b6eb3b46",
   "metadata": {},
   "outputs": [],
   "source": []
  }
 ],
 "metadata": {
  "kernelspec": {
   "display_name": "Python 3 (ipykernel)",
   "language": "python",
   "name": "python3"
  },
  "language_info": {
   "codemirror_mode": {
    "name": "ipython",
    "version": 3
   },
   "file_extension": ".py",
   "mimetype": "text/x-python",
   "name": "python",
   "nbconvert_exporter": "python",
   "pygments_lexer": "ipython3",
   "version": "3.9.7"
  }
 },
 "nbformat": 4,
 "nbformat_minor": 5
}
