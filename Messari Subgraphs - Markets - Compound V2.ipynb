{
 "cells": [
  {
   "cell_type": "code",
   "execution_count": 1,
   "id": "ab01c952",
   "metadata": {},
   "outputs": [],
   "source": [
    "import requests\n",
    "import pandas as pd\n",
    "import numpy as np\n",
    "import time\n",
    "import pickle\n",
    "import json\n",
    "import os\n",
    "import random"
   ]
  },
  {
   "cell_type": "code",
   "execution_count": 2,
   "id": "cf178e72",
   "metadata": {},
   "outputs": [],
   "source": [
    "def to_timestamp(date):\n",
    "    return int(date.timestamp())"
   ]
  },
  {
   "cell_type": "code",
   "execution_count": 3,
   "id": "ddfb2b73",
   "metadata": {},
   "outputs": [],
   "source": [
    "def run_query(api, query): # A simple function to use requests.post to make the API call. Note the json= section.\n",
    "    request = requests.post(api, json={'query': query})\n",
    "    if request.status_code == 200:\n",
    "        return request.json()\n",
    "    else:\n",
    "        raise Exception(\"Query failed to run by returning code of {}. {}\".format(request.status_code, query))"
   ]
  },
  {
   "cell_type": "code",
   "execution_count": 4,
   "id": "537b2256",
   "metadata": {},
   "outputs": [],
   "source": [
    "def get_market_query(block):\n",
    "    query = '''{\n",
    "      markets(block: {number: ''' + str(block) + '''}, first: 1000) {\n",
    "        id\n",
    "        protocol { id }\n",
    "        name\n",
    "\n",
    "        isActive\n",
    "        canBorrowFrom\n",
    "        canUseAsCollateral\n",
    "        maximumLTV\n",
    "        liquidationThreshold\n",
    "        liquidationPenalty\n",
    "\n",
    "        createdTimestamp\n",
    "        createdBlockNumber\n",
    "\n",
    "        rewardTokens { id }\n",
    "        rewardTokenEmissionsAmount\n",
    "        rewardTokenEmissionsUSD\n",
    "        _stakedOutputTokenAmount\n",
    "\n",
    "        inputToken  { id symbol }\n",
    "        inputTokenBalance\n",
    "        inputTokenPriceUSD\n",
    "\n",
    "        outputToken { id symbol }\n",
    "        outputTokenSupply\n",
    "        outputTokenPriceUSD\n",
    "\n",
    "        exchangeRate\n",
    "        rates {\n",
    "          id\n",
    "          rate\n",
    "          duration\n",
    "          maturityBlock\n",
    "          side\n",
    "          type\n",
    "\n",
    "        }\n",
    "\n",
    "        _reserveFactor\n",
    "        totalValueLockedUSD\n",
    "        totalDepositBalanceUSD\n",
    "        totalBorrowBalanceUSD\n",
    "        \n",
    "        _borrowBalance\n",
    "        _rewardLastUpdatedTimestamp\n",
    "        _cumulativeRewardAmount\n",
    "        _stakedOutputTokenAmount\n",
    "      }\n",
    "    }'''\n",
    "    \n",
    "    return run_query(api, query)['data']['markets']"
   ]
  },
  {
   "cell_type": "code",
   "execution_count": 5,
   "id": "d2fcdde4",
   "metadata": {},
   "outputs": [],
   "source": [
    "d = dict()\n",
    "d['AAVE V2 Ethereum'] = ('https://api.thegraph.com/subgraphs/name/messari/aave-v2-ethereum', 11363052)\n",
    "d['AAVE V3 Ethereum'] = ('https://api.thegraph.com/subgraphs/name/messari/aave-v3-ethereum', 16496817)\n",
    "d['Compound V2 Ethereum'] = ('https://api.thegraph.com/subgraphs/name/messari/compound-v2-ethereum', 7710833)\n",
    "d['Compound V3 Ethereum'] = ('https://api.thegraph.com/subgraphs/name/messari/compound-v3-ethereum', 15412361)"
   ]
  },
  {
   "cell_type": "code",
   "execution_count": 6,
   "id": "4333860c",
   "metadata": {},
   "outputs": [],
   "source": [
    "subgraph = 'Compound V2 Ethereum'\n",
    "api, start_block = d[subgraph]\n",
    "folder = f'Messari/{subgraph}/markets'"
   ]
  },
  {
   "cell_type": "code",
   "execution_count": 7,
   "id": "842b54f7",
   "metadata": {},
   "outputs": [],
   "source": [
    "blocks = pd.read_csv('data/blocks_hourly.csv')\n",
    "blocks['time'] = pd.to_datetime(blocks['time'])\n",
    "\n",
    "blocks = blocks[blocks['max_block'] > start_block]"
   ]
  },
  {
   "cell_type": "code",
   "execution_count": 8,
   "id": "fbd6fbe8",
   "metadata": {
    "scrolled": true
   },
   "outputs": [
    {
     "name": "stdout",
     "output_type": "stream",
     "text": [
      "2023-12-01 00:00:00\n",
      "2023-12-02 00:00:00\n",
      "2023-12-03 00:00:00\n",
      "2023-12-04 00:00:00\n",
      "2023-12-05 00:00:00\n",
      "2023-12-06 00:00:00\n",
      "2023-12-07 00:00:00\n",
      "2023-12-08 00:00:00\n",
      "2023-12-09 00:00:00\n",
      "2023-12-10 00:00:00\n",
      "('Connection aborted.', ConnectionAbortedError(10053, 'An established connection was aborted by the software in your host machine', None, 10053, None))\n",
      "2023-12-11 00:00:00\n",
      "2023-12-12 00:00:00\n",
      "2023-12-13 00:00:00\n",
      "2023-12-14 00:00:00\n",
      "2023-12-15 00:00:00\n",
      "2023-12-16 00:00:00\n",
      "2023-12-17 00:00:00\n",
      "2023-12-18 00:00:00\n",
      "2023-12-19 00:00:00\n",
      "2023-12-20 00:00:00\n",
      "2023-12-21 00:00:00\n",
      "2023-12-22 00:00:00\n",
      "2023-12-23 00:00:00\n",
      "2023-12-24 00:00:00\n",
      "2023-12-25 00:00:00\n",
      "2023-12-26 00:00:00\n",
      "2023-12-27 00:00:00\n",
      "2023-12-28 00:00:00\n",
      "2023-12-29 00:00:00\n",
      "2023-12-30 00:00:00\n",
      "2023-12-31 00:00:00\n"
     ]
    }
   ],
   "source": [
    "for name, group in blocks.groupby(pd.Grouper(key='time', freq='1M')):\n",
    "    if os.path.isfile(f'{folder}/markets_{name.strftime(\"%Y-%m-%d\")}.json'):\n",
    "        continue\n",
    "    \n",
    "    temp = dict()\n",
    "    for idx, row in group.iterrows():\n",
    "        if '00:00:00' in str(row['time']):\n",
    "            print(str(row['time']))\n",
    "            time.sleep(10)\n",
    "            \n",
    "        while True:\n",
    "            try:\n",
    "                temp[str(row['time'])] = get_market_query(row['max_block'])\n",
    "                break\n",
    "            except Exception as e:\n",
    "                print(e)\n",
    "                time.sleep(60)\n",
    "                continue\n",
    "    \n",
    "    with open(f'{folder}/markets_{name.strftime(\"%Y-%m-%d\")}.json', 'w') as outfile:\n",
    "        outfile.write(json.dumps(temp))\n",
    "    \n",
    "    time.sleep(30)"
   ]
  },
  {
   "cell_type": "code",
   "execution_count": null,
   "id": "7fc5a9e0",
   "metadata": {},
   "outputs": [],
   "source": []
  }
 ],
 "metadata": {
  "kernelspec": {
   "display_name": "Python 3 (ipykernel)",
   "language": "python",
   "name": "python3"
  },
  "language_info": {
   "codemirror_mode": {
    "name": "ipython",
    "version": 3
   },
   "file_extension": ".py",
   "mimetype": "text/x-python",
   "name": "python",
   "nbconvert_exporter": "python",
   "pygments_lexer": "ipython3",
   "version": "3.11.5"
  }
 },
 "nbformat": 4,
 "nbformat_minor": 5
}
