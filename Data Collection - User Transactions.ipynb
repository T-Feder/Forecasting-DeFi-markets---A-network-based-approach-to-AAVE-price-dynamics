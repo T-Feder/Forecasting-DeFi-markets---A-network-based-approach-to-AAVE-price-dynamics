{
 "cells": [
  {
   "cell_type": "code",
   "execution_count": null,
   "id": "a8ec2f4b",
   "metadata": {},
   "outputs": [],
   "source": [
    "import pandas as pd\n",
    "import numpy as np\n",
    "import requests\n",
    "import json\n",
    "\n",
    "import time\n",
    "import os"
   ]
  },
  {
   "cell_type": "code",
   "execution_count": null,
   "id": "7385d41d",
   "metadata": {},
   "outputs": [],
   "source": [
    "url = 'https://docs.google.com/spreadsheets/d/1ObrsfW-RB2CWmN2QhpKCz4z_FpS6UA-hajFEUZDlEFQ/export'\n",
    "\n",
    "apis = pd.read_csv(f'{url}?gid=1357965727&format=csv')\n",
    "apis = apis.set_index(['Version', 'Network'])['API'].to_dict()\n",
    "\n",
    "first = pd.read_csv(f'{url}?gid=1357965727&format=csv')\n",
    "first = first.set_index(['Version', 'Network'])['Date'].to_dict()\n",
    "\n",
    "tables = dict()\n",
    "tables['V2'] = pd.read_csv(f'{url}?gid=1653512502&format=csv')\n",
    "tables['V3'] = pd.read_csv(f'{url}?gid=468024793&format=csv')"
   ]
  },
  {
   "cell_type": "code",
   "execution_count": null,
   "id": "4f7f37dd",
   "metadata": {},
   "outputs": [],
   "source": [
    "def run_query(api, query): # A simple function to use requests.post to make the API call. Note the json= section.\n",
    "    request = requests.post(api, json={'query': query})\n",
    "    if request.status_code == 200:\n",
    "        return request.json()\n",
    "    else:\n",
    "        raise Exception(\"Query failed to run by returning code of {}. {}\".format(request.status_code, query))"
   ]
  },
  {
   "cell_type": "code",
   "execution_count": null,
   "id": "055cbcd5",
   "metadata": {},
   "outputs": [],
   "source": [
    "def get_query_string(table, start_time, end_time, skip):\n",
    "    e = dict()\n",
    "    for col in table.columns:\n",
    "        q = table[col].str.split(':').str[0]\n",
    "        #q.loc[4:11] = q.loc[4:11].apply(lambda x: x + '{id}' if isinstance(x, str) else x)\n",
    "        q = list(q.dropna())\n",
    "        h = col + \"(first:1000 skip:\" + str(skip) + \" orderBy:timestamp where:{timestamp_gte: \" + str(start_time) + \", timestamp_lt: \" + str(end_time) + \"})\"\n",
    "        e[col] = h + '{' + ',\\n'.join(q) + '}'\n",
    "    return e"
   ]
  },
  {
   "cell_type": "code",
   "execution_count": null,
   "id": "055a6dbb",
   "metadata": {},
   "outputs": [],
   "source": [
    "def query_events(api, table, start_time, end_time):\n",
    "    events = dict()\n",
    "    query = '{' + '\\n'.join(get_query_string(table, start_time, end_time, 0).values()) + '}'\n",
    "    #print(query)\n",
    "    result = run_query(api, query)\n",
    "    skip = 1000\n",
    "    while True:\n",
    "        q_strings = get_query_string(table, start_time, end_time, skip)\n",
    "        query = '{'\n",
    "        for key in result['data'].keys():\n",
    "            if key not in events:\n",
    "                events[key] = result['data'][key]\n",
    "            else:\n",
    "                events[key].extend(result['data'][key])\n",
    "            if len(result['data'][key]) >= 1000:\n",
    "                query += q_strings[key]\n",
    "        if query == '{':\n",
    "            break\n",
    "        if skip > 5000:\n",
    "            raise Exception(\"This is unacceptable.\")\n",
    "            break\n",
    "        query += '}'\n",
    "        result = run_query(api, query)\n",
    "        skip += 1000\n",
    "    return events"
   ]
  },
  {
   "cell_type": "markdown",
   "id": "5bbd697b",
   "metadata": {},
   "source": [
    "### Events"
   ]
  },
  {
   "cell_type": "code",
   "execution_count": null,
   "id": "f50a6ebc",
   "metadata": {},
   "outputs": [],
   "source": [
    "version, network = 'V2', 'Mainnet'\n",
    "\n",
    "api = apis[(version, network)]\n",
    "table = tables[version]\n",
    "start_date, end_date = first[(version, network)], '2023-10-31'\n",
    "\n",
    "all_dates = pd.date_range(start=start_date, end=end_date).tolist()\n",
    "all_dates = list(map(lambda date: int(date.timestamp()), all_dates))\n",
    "\n",
    "folder = f'raw_data/{version}_{network}'\n",
    "if not os.path.exists(folder):\n",
    "    os.makedirs(folder)\n",
    "    print('Create folder', folder)"
   ]
  },
  {
   "cell_type": "code",
   "execution_count": null,
   "id": "1c4e3fb9",
   "metadata": {
    "scrolled": true
   },
   "outputs": [],
   "source": [
    "all_dates_stack = all_dates.copy()[::-1]\n",
    "count = 0\n",
    "while len(all_dates_stack) > 1:\n",
    "    (start_time, end_time) = int(all_dates_stack.pop()), int(all_dates_stack[-1])\n",
    "    \n",
    "    if os.path.isfile(f'{folder}/events_{start_time}_{end_time}.json'):\n",
    "        continue\n",
    "    \n",
    "    try:\n",
    "        temp = query_events(api, table, start_time, end_time)\n",
    "        with open(f'{folder}/events_{start_time}_{end_time}.json', 'w') as outfile:\n",
    "            outfile.write(json.dumps(temp))\n",
    "        print(\"Write\", start_time, end_time)\n",
    "    except:\n",
    "        print(\"Extend the period\", start_time, end_time)\n",
    "        all_dates_stack.extend(np.linspace(int(start_time), int(end_time), num=5)[:-1][::-1])\n",
    "        \n",
    "    count += 1\n",
    "    if count % 100 == 0:\n",
    "        print(count)\n",
    "        time.sleep(10)"
   ]
  },
  {
   "cell_type": "code",
   "execution_count": null,
   "id": "dd1a5d33",
   "metadata": {},
   "outputs": [],
   "source": []
  }
 ],
 "metadata": {
  "kernelspec": {
   "display_name": "Python 3 (ipykernel)",
   "language": "python",
   "name": "python3"
  },
  "language_info": {
   "codemirror_mode": {
    "name": "ipython",
    "version": 3
   },
   "file_extension": ".py",
   "mimetype": "text/x-python",
   "name": "python",
   "nbconvert_exporter": "python",
   "pygments_lexer": "ipython3",
   "version": "3.11.5"
  }
 },
 "nbformat": 4,
 "nbformat_minor": 5
}
