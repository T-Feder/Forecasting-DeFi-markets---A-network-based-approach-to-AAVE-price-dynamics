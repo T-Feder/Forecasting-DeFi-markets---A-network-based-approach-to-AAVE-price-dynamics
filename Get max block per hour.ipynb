{
 "cells": [
  {
   "cell_type": "code",
   "execution_count": 9,
   "id": "92cf1846",
   "metadata": {},
   "outputs": [],
   "source": [
    "import requests\n",
    "import os\n",
    "import pandas as pd"
   ]
  },
  {
   "cell_type": "markdown",
   "id": "ac69baf2",
   "metadata": {},
   "source": [
    "Set the date range to get snapshot data"
   ]
  },
  {
   "cell_type": "code",
   "execution_count": 11,
   "id": "61988c4e",
   "metadata": {},
   "outputs": [],
   "source": [
    "all_dates = pd.date_range('2019-01-01', '2024-01-04')"
   ]
  },
  {
   "cell_type": "markdown",
   "id": "c4554e64",
   "metadata": {},
   "source": [
    "Get max blocks"
   ]
  },
  {
   "cell_type": "code",
   "execution_count": 12,
   "id": "204fc3dc",
   "metadata": {
    "scrolled": true
   },
   "outputs": [
    {
     "name": "stdout",
     "output_type": "stream",
     "text": [
      "Downloading block headers on 2024-01-01\n",
      "Downloading block headers on 2024-01-02\n",
      "Downloading block headers on 2024-01-03\n",
      "Downloading block headers on 2024-01-04\n",
      "Wall time: 8min 1s\n"
     ]
    }
   ],
   "source": [
    "%%time\n",
    "path = 'D:/blocks/ethereum'\n",
    "all_days = list()\n",
    "all_hours = list()\n",
    "for date in all_dates:\n",
    "    d = date.strftime(\"%Y%m%d\")\n",
    "    file = '{}/ethereum_{}.tsv.gz'.format(path, d)\n",
    "    \n",
    "    if not os.path.isfile(file):\n",
    "        print('Downloading block headers on', date.strftime(\"%Y-%m-%d\"))\n",
    "        url = 'https://gz.blockchair.com/ethereum/blocks/blockchair_ethereum_blocks_{}.tsv.gz'.format(d)\n",
    "        r = requests.get(url, allow_redirects=True)\n",
    "        s = open(file, 'wb').write(r.content)\n",
    "    \n",
    "    blocks = pd.read_csv(file, compression='gzip', sep='\\t', header=0)\n",
    "    blocks['time'] = pd.to_datetime(blocks['time'])\n",
    "    \n",
    "    days = blocks.groupby(pd.Grouper(key='time', freq='1D')).agg({\n",
    "        'id': ['count', 'max'],\n",
    "        'fee_total_usd': 'sum',\n",
    "        'gas_used': 'sum'\n",
    "    }).reset_index()\n",
    "    days.columns = ['time', 'count', 'max_block', 'fee_total_usd', 'gas_used']\n",
    "    days['gas_fee_usd'] = days['fee_total_usd'] / days['gas_used']\n",
    "    all_days.append(days)\n",
    "    \n",
    "    hours = blocks.groupby(pd.Grouper(key='time', freq='1H')).agg({\n",
    "        'id': ['count', 'max'],\n",
    "        'fee_total_usd': 'sum',\n",
    "        'gas_used': 'sum'\n",
    "    }).reset_index()\n",
    "    hours.columns = ['time', 'count', 'max_block', 'fee_total_usd', 'gas_used']\n",
    "    hours['gas_fee_usd'] = hours['fee_total_usd'] / hours['gas_used']\n",
    "    all_hours.append(hours)"
   ]
  },
  {
   "cell_type": "code",
   "execution_count": 4,
   "id": "30d54325",
   "metadata": {},
   "outputs": [],
   "source": [
    "all_days = pd.concat(all_days, ignore_index=True)\n",
    "all_days.to_csv(f'data/blocks_daily.csv', index=False)"
   ]
  },
  {
   "cell_type": "code",
   "execution_count": 5,
   "id": "61816b26",
   "metadata": {
    "scrolled": true
   },
   "outputs": [],
   "source": [
    "all_hours = pd.concat(all_hours, ignore_index=True)\n",
    "all_hours.to_csv(f'data/blocks_hourly.csv', index=False)"
   ]
  },
  {
   "cell_type": "code",
   "execution_count": null,
   "id": "c45879ec",
   "metadata": {},
   "outputs": [],
   "source": []
  }
 ],
 "metadata": {
  "kernelspec": {
   "display_name": "Python 3 (ipykernel)",
   "language": "python",
   "name": "python3"
  },
  "language_info": {
   "codemirror_mode": {
    "name": "ipython",
    "version": 3
   },
   "file_extension": ".py",
   "mimetype": "text/x-python",
   "name": "python",
   "nbconvert_exporter": "python",
   "pygments_lexer": "ipython3",
   "version": "3.11.5"
  }
 },
 "nbformat": 4,
 "nbformat_minor": 5
}
