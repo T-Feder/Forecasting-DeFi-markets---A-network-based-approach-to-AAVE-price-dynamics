{
 "cells": [
  {
   "cell_type": "code",
   "execution_count": 1,
   "id": "a8ec2f4b",
   "metadata": {},
   "outputs": [],
   "source": [
    "import pandas as pd\n",
    "import numpy as np\n",
    "import requests\n",
    "import json\n",
    "import time\n",
    "import os"
   ]
  },
  {
   "cell_type": "code",
   "execution_count": 2,
   "id": "7385d41d",
   "metadata": {},
   "outputs": [],
   "source": [
    "url = 'https://docs.google.com/spreadsheets/d/1ObrsfW-RB2CWmN2QhpKCz4z_FpS6UA-hajFEUZDlEFQ/export'\n",
    "\n",
    "apis = pd.read_csv(f'{url}?gid=1357965727&format=csv')\n",
    "apis = apis.set_index(['Version', 'Network'])['API'].to_dict()\n",
    "\n",
    "tables = dict()\n",
    "tables['V2'] = pd.read_csv(f'{url}?gid=1841150650&format=csv')\n",
    "tables['V3'] = pd.read_csv(f'{url}?gid=496837599&format=csv')"
   ]
  },
  {
   "cell_type": "code",
   "execution_count": 3,
   "id": "4f7f37dd",
   "metadata": {},
   "outputs": [],
   "source": [
    "def run_query(api, query): # A simple function to use requests.post to make the API call. Note the json= section.\n",
    "    request = requests.post(api, json={'query': query})\n",
    "    if request.status_code == 200:\n",
    "        return request.json()\n",
    "    else:\n",
    "        raise Exception(\"Query failed to run by returning code of {}. {}\".format(request.status_code, query))"
   ]
  },
  {
   "cell_type": "code",
   "execution_count": 4,
   "id": "cc7762b7",
   "metadata": {},
   "outputs": [],
   "source": [
    "def get_query_string(table):\n",
    "    e = dict()\n",
    "    for col in table.columns:\n",
    "        q = table[col].str.split(':').str[0]\n",
    "        #q.loc[1:3] = q.loc[1:4].apply(lambda x: x + '{id}' if isinstance(x, str) else x)\n",
    "        q = list(q.dropna())\n",
    "        h = f'{col}(first: 1000 orderBy: id)'\n",
    "        e[col] = h + '{' + ',\\n'.join(q) + '}'\n",
    "    return e"
   ]
  },
  {
   "cell_type": "code",
   "execution_count": 30,
   "id": "03e98e93",
   "metadata": {
    "scrolled": true
   },
   "outputs": [
    {
     "name": "stdout",
     "output_type": "stream",
     "text": [
      "#### V2 Polygon ####\n",
      "pools table is done at 1 with 1 entries\n",
      "reserves table is done at 1 with 13 entries\n",
      "priceOracleAssets table is done at 1 with 14 entries\n",
      "priceOracles table is done at 1 with 1 entries\n",
      "100\n",
      "200\n",
      "300\n",
      "400\n",
      "500\n",
      "600\n",
      "700\n",
      "800\n",
      "900\n",
      "1000\n",
      "1100\n",
      "users table is done at 1115 with 1114427 entries\n",
      "1200\n",
      "1300\n",
      "1400\n",
      "1500\n",
      "1600\n",
      "1700\n",
      "userReserves table is done at 1789 with 1788534 entries\n",
      "Everything is done at 1789!!!\n",
      "#### V3 Arbitrum ####\n",
      "emodeCategories table is done at 1 with 2 entries\n",
      "pools table is done at 1 with 1 entries\n",
      "reserves table is done at 1 with 15 entries\n",
      "priceOracleAssets table is done at 1 with 15 entries\n",
      "priceOracles table is done at 1 with 1 entries\n",
      "100\n",
      "200\n",
      "users table is done at 200 with 199655 entries\n",
      "300\n",
      "userReserves table is done at 332 with 331657 entries\n",
      "Everything is done at 332!!!\n",
      "#### V3 Avalanche ####\n",
      "emodeCategories table is done at 1 with 2 entries\n",
      "pools table is done at 1 with 1 entries\n",
      "reserves table is done at 1 with 12 entries\n",
      "priceOracleAssets table is done at 1 with 12 entries\n",
      "priceOracles table is done at 1 with 1 entries\n",
      "users table is done at 67 with 66933 entries\n",
      "100\n",
      "userReserves table is done at 148 with 147598 entries\n",
      "Everything is done at 148!!!\n",
      "#### V3 Fantom ####\n",
      "emodeCategories table is done at 1 with 1 entries\n",
      "pools table is done at 1 with 1 entries\n",
      "reserves table is done at 1 with 10 entries\n",
      "priceOracleAssets table is done at 1 with 10 entries\n",
      "priceOracles table is done at 1 with 1 entries\n",
      "users table is done at 5 with 4153 entries\n",
      "userReserves table is done at 8 with 7739 entries\n",
      "Everything is done at 8!!!\n",
      "#### V3 Harmony ####\n",
      "emodeCategories table is done at 1 with 1 entries\n",
      "pools table is done at 1 with 1 entries\n",
      "reserves table is done at 1 with 8 entries\n",
      "priceOracleAssets table is done at 1 with 8 entries\n",
      "priceOracles table is done at 1 with 1 entries\n",
      "users table is done at 3 with 2545 entries\n",
      "userReserves table is done at 4 with 3683 entries\n",
      "Everything is done at 4!!!\n",
      "#### V3 Mainnet ####\n",
      "emodeCategories table is done at 1 with 1 entries\n",
      "pools table is done at 1 with 1 entries\n",
      "reserves table is done at 1 with 23 entries\n",
      "priceOracleAssets table is done at 1 with 23 entries\n",
      "priceOracles table is done at 1 with 1 entries\n",
      "users table is done at 17 with 16312 entries\n",
      "userReserves table is done at 31 with 30480 entries\n",
      "Everything is done at 31!!!\n",
      "#### V3 Optimism ####\n",
      "emodeCategories table is done at 1 with 2 entries\n",
      "pools table is done at 1 with 1 entries\n",
      "reserves table is done at 1 with 13 entries\n",
      "priceOracleAssets table is done at 1 with 13 entries\n",
      "priceOracles table is done at 1 with 1 entries\n",
      "100\n",
      "users table is done at 105 with 104901 entries\n",
      "200\n",
      "userReserves table is done at 243 with 242135 entries\n",
      "Everything is done at 243!!!\n",
      "#### V3 Polygon ####\n",
      "emodeCategories table is done at 1 with 3 entries\n",
      "pools table is done at 1 with 1 entries\n",
      "reserves table is done at 1 with 20 entries\n",
      "priceOracleAssets table is done at 1 with 20 entries\n",
      "priceOracles table is done at 1 with 1 entries\n",
      "100\n",
      "users table is done at 165 with 164180 entries\n",
      "200\n",
      "300\n",
      "400\n",
      "userReserves table is done at 406 with 405917 entries\n",
      "Everything is done at 406!!!\n"
     ]
    }
   ],
   "source": [
    "for (version, network), api in apis.items():\n",
    "    if os.path.isfile(f'raw_data/tables_{version}_{network}.json'):\n",
    "        continue\n",
    "    \n",
    "    print(\"####\", version, network, \"####\")\n",
    "    table = tables[version]\n",
    "    \n",
    "    q_strings = get_query_string(table)\n",
    "    query = '{' + '\\n'.join(q_strings.values()) + '}'\n",
    "    result = run_query(api, query)\n",
    "\n",
    "    events = dict()\n",
    "    count = 1\n",
    "    while True:\n",
    "        query = '{'\n",
    "        for key in result['data'].keys():\n",
    "            # Add query results to dictionary\n",
    "            if key not in events:\n",
    "                events[key] = result['data'][key]\n",
    "            else:\n",
    "                events[key].extend(result['data'][key])\n",
    "\n",
    "            # Check if there is still more to query\n",
    "            if len(result['data'][key]) >= 1000:\n",
    "                q = q_strings[key]\n",
    "                q = q.replace('(first: 1000 orderBy: id)', '(first: 1000 orderBy: id where: {id_gt: \"' + result['data'][key][-1]['id'] + '\"})')\n",
    "                query += q\n",
    "            else:\n",
    "                print(f'{key} table is done at {count} with {len(events[key])} entries')\n",
    "\n",
    "        if query == '{':\n",
    "            print(f'Everything is done at {count}!!!')\n",
    "            break\n",
    "\n",
    "        query += '}'\n",
    "        result = run_query(api, query)\n",
    "        \n",
    "        if 'errors' in result:\n",
    "            print(query)\n",
    "            print(result)\n",
    "            break\n",
    "\n",
    "        count += 1\n",
    "        if count % 100 == 0:\n",
    "            print(count)\n",
    "            time.sleep(10)\n",
    "\n",
    "    with open(f'raw_data/tables_{version}_{network}.json', 'w') as outfile:\n",
    "        outfile.write(json.dumps(events))\n",
    "    time.sleep(60)"
   ]
  },
  {
   "cell_type": "code",
   "execution_count": 28,
   "id": "d5ab2565",
   "metadata": {},
   "outputs": [
    {
     "data": {
      "text/plain": [
       "True"
      ]
     },
     "execution_count": 28,
     "metadata": {},
     "output_type": "execute_result"
    }
   ],
   "source": []
  },
  {
   "cell_type": "code",
   "execution_count": null,
   "id": "26e71c17",
   "metadata": {},
   "outputs": [],
   "source": [
    "run_query(api, query)"
   ]
  },
  {
   "cell_type": "markdown",
   "id": "d1c6c972",
   "metadata": {},
   "source": [
    "### Read Tables"
   ]
  },
  {
   "cell_type": "code",
   "execution_count": null,
   "id": "ba006002",
   "metadata": {},
   "outputs": [],
   "source": [
    "version, network = 'V2', 'Polygon'"
   ]
  },
  {
   "cell_type": "code",
   "execution_count": null,
   "id": "3ce5a12f",
   "metadata": {},
   "outputs": [],
   "source": [
    "with open(f'raw_data/tables_{version}_{network}.json') as json_file:\n",
    "    data = json.load(json_file)"
   ]
  },
  {
   "cell_type": "code",
   "execution_count": null,
   "id": "6f10ad45",
   "metadata": {},
   "outputs": [],
   "source": [
    "for key, values in data.items():\n",
    "    df = pd.json_normalize(values)\n",
    "    print(key, df.shape)\n",
    "    print(df.columns.values)"
   ]
  },
  {
   "cell_type": "code",
   "execution_count": null,
   "id": "1d95d989",
   "metadata": {},
   "outputs": [],
   "source": [
    "pd.json_normalize(data['priceOracleAssets'])"
   ]
  },
  {
   "cell_type": "code",
   "execution_count": null,
   "id": "4d109ab7",
   "metadata": {},
   "outputs": [],
   "source": []
  }
 ],
 "metadata": {
  "kernelspec": {
   "display_name": "Python 3 (ipykernel)",
   "language": "python",
   "name": "python3"
  },
  "language_info": {
   "codemirror_mode": {
    "name": "ipython",
    "version": 3
   },
   "file_extension": ".py",
   "mimetype": "text/x-python",
   "name": "python",
   "nbconvert_exporter": "python",
   "pygments_lexer": "ipython3",
   "version": "3.11.5"
  }
 },
 "nbformat": 4,
 "nbformat_minor": 5
}
