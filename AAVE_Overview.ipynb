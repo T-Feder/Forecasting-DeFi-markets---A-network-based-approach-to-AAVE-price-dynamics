{
 "cells": [
  {
   "cell_type": "code",
   "execution_count": 1,
   "id": "4cfb8a25",
   "metadata": {},
   "outputs": [
    {
     "name": "stdout",
     "output_type": "stream",
     "text": [
      "Number of markets: 37\n",
      "Total TVL: $3,139,774,667.66\n",
      "Total borrow balance: $944,963,803.02\n",
      "Total deposit balance: $3,139,774,667.66\n",
      "\n",
      "Top 5 markets by TVL:\n",
      "Aave interest bearing STETH: $964,454,540.42\n",
      "Aave interest bearing WBTC: $722,776,472.89\n",
      "Aave interest bearing WETH: $698,817,399.46\n",
      "Aave interest bearing USDC: $323,982,202.15\n",
      "Aave interest bearing USDT: $200,647,618.84\n",
      "\n",
      "Top 5 markets by utilization rate:\n",
      "Aave interest bearing RENFIL: 99.03%\n",
      "Aave interest bearing USDC: 90.93%\n",
      "Aave interest bearing FRAX: 85.18%\n",
      "Aave interest bearing LUSD: 84.62%\n",
      "Aave interest bearing DAI: 82.57%\n",
      "\n",
      "Interest rates for top 5 markets by TVL:\n",
      "Aave interest bearing STETH:\n",
      "  BORROWER STABLE: 0.00%\n",
      "  BORROWER VARIABLE: 0.00%\n",
      "  LENDER VARIABLE: 0.00%\n",
      "Aave interest bearing WBTC:\n",
      "  BORROWER STABLE: 5.03%\n",
      "  BORROWER VARIABLE: 0.81%\n",
      "  LENDER VARIABLE: 0.08%\n",
      "Aave interest bearing WETH:\n",
      "  BORROWER STABLE: 5.11%\n",
      "  BORROWER VARIABLE: 3.01%\n",
      "  LENDER VARIABLE: 0.95%\n",
      "Aave interest bearing USDC:\n",
      "  BORROWER STABLE: 16.56%\n",
      "  BORROWER VARIABLE: 10.56%\n",
      "  LENDER VARIABLE: 7.18%\n",
      "Aave interest bearing USDT:\n",
      "  BORROWER STABLE: 14.78%\n",
      "  BORROWER VARIABLE: 7.78%\n",
      "  LENDER VARIABLE: 4.72%\n",
      "\n",
      "Additional Statistics:\n",
      "Average TVL per market: $84,858,774.80\n",
      "Median TVL per market: $912,257.39\n",
      "Total number of unique input tokens: 37\n",
      "\n",
      "Top 10 input tokens by TVL:\n",
      "stETH: $964,454,540.42\n",
      "WBTC: $722,776,472.89\n",
      "WETH: $698,817,399.46\n",
      "USDC: $323,982,202.15\n",
      "USDT: $200,647,618.84\n",
      "DAI: $79,158,151.98\n",
      "LINK: $79,064,644.65\n",
      "ZRX: $16,039,617.59\n",
      "AAVE: $14,890,722.18\n",
      "ENS: $7,395,511.00\n"
     ]
    }
   ],
   "source": [
    "import pandas as pd\n",
    "import json\n",
    "from datetime import datetime\n",
    "import os\n",
    "\n",
    "# Set the base directory\n",
    "base_dir = r\"C:\\Users\\tfeder\\Documents\\M2 CLASSES\\Master Thesis\\AAVE_Data\\Questions\\Messari\\AAVE V2 Ethereum\\markets\"\n",
    "\n",
    "# Get the most recent file\n",
    "files = os.listdir(base_dir)\n",
    "latest_file = max(files)\n",
    "\n",
    "# Load the latest market data\n",
    "with open(os.path.join(base_dir, latest_file), 'r') as f:\n",
    "    market_data = json.load(f)\n",
    "\n",
    "# Get the most recent date\n",
    "latest_date = max(market_data.keys())\n",
    "\n",
    "# Create a DataFrame with the latest market data\n",
    "markets_df = pd.DataFrame(market_data[latest_date])\n",
    "\n",
    "# Convert numeric columns from string to float\n",
    "numeric_columns = ['totalValueLockedUSD', 'totalBorrowBalanceUSD', 'totalDepositBalanceUSD']\n",
    "for col in numeric_columns:\n",
    "    markets_df[col] = pd.to_numeric(markets_df[col], errors='coerce')\n",
    "\n",
    "# Extract input token symbols\n",
    "markets_df['input_token_symbol'] = markets_df['inputToken'].apply(lambda x: x['symbol'] if isinstance(x, dict) else None)\n",
    "\n",
    "# Calculate and print some basic statistics\n",
    "print(f\"Number of markets: {len(markets_df)}\")\n",
    "print(f\"Total TVL: ${markets_df['totalValueLockedUSD'].sum():,.2f}\")\n",
    "print(f\"Total borrow balance: ${markets_df['totalBorrowBalanceUSD'].sum():,.2f}\")\n",
    "print(f\"Total deposit balance: ${markets_df['totalDepositBalanceUSD'].sum():,.2f}\")\n",
    "\n",
    "# Sort markets by TVL and display top 5\n",
    "print(\"\\nTop 5 markets by TVL:\")\n",
    "top_markets = markets_df.sort_values('totalValueLockedUSD', ascending=False).head()\n",
    "for _, market in top_markets.iterrows():\n",
    "    print(f\"{market['name']}: ${market['totalValueLockedUSD']:,.2f}\")\n",
    "\n",
    "# Calculate utilization rate (borrowed / TVL) for each market\n",
    "markets_df['utilization_rate'] = markets_df['totalBorrowBalanceUSD'] / markets_df['totalValueLockedUSD']\n",
    "\n",
    "print(\"\\nTop 5 markets by utilization rate:\")\n",
    "for _, market in markets_df.sort_values('utilization_rate', ascending=False).head().iterrows():\n",
    "    print(f\"{market['name']}: {market['utilization_rate']:.2%}\")\n",
    "\n",
    "# Display interest rates\n",
    "print(\"\\nInterest rates for top 5 markets by TVL:\")\n",
    "for _, market in top_markets.iterrows():\n",
    "    print(f\"{market['name']}:\")\n",
    "    for rate in market['rates']:\n",
    "        print(f\"  {rate['side']} {rate['type']}: {float(rate['rate']):.2f}%\")\n",
    "\n",
    "# Calculate some additional statistics\n",
    "print(\"\\nAdditional Statistics:\")\n",
    "print(f\"Average TVL per market: ${markets_df['totalValueLockedUSD'].mean():,.2f}\")\n",
    "print(f\"Median TVL per market: ${markets_df['totalValueLockedUSD'].median():,.2f}\")\n",
    "print(f\"Total number of unique input tokens: {markets_df['input_token_symbol'].nunique()}\")\n",
    "\n",
    "# Display top 10 input tokens by TVL\n",
    "print(\"\\nTop 10 input tokens by TVL:\")\n",
    "token_tvl = markets_df.groupby('input_token_symbol')['totalValueLockedUSD'].sum().sort_values(ascending=False)\n",
    "for token, tvl in token_tvl.head(10).items():\n",
    "    print(f\"{token}: ${tvl:,.2f}\")"
   ]
  },
  {
   "cell_type": "code",
   "execution_count": 2,
   "id": "7dfce36f",
   "metadata": {},
   "outputs": [
    {
     "name": "stdout",
     "output_type": "stream",
     "text": [
      "Correlations between utilization rate and interest rates:\n",
      "utilization_rate  utilization_rate  borrow_stable_rate  borrow_variable_rate  \\\n",
      "asset_category                                                                 \n",
      "Major Crypto                   1.0            1.000000              1.000000   \n",
      "Other Crypto                   1.0            0.173964             -0.163461   \n",
      "Stablecoin                     1.0           -0.907781             -0.945178   \n",
      "\n",
      "utilization_rate  lend_rate  \n",
      "asset_category               \n",
      "Major Crypto       1.000000  \n",
      "Other Crypto       0.397220  \n",
      "Stablecoin         0.540484  \n",
      "Plot saved as 'utilization_vs_rates.png'\n",
      "\n",
      "Average rates and utilization by asset category:\n",
      "                utilization_rate  borrow_stable_rate  borrow_variable_rate  \\\n",
      "asset_category                                                               \n",
      "Major Crypto            0.277054            5.070262              1.908834   \n",
      "Other Crypto            0.201323            3.457505             26.267686   \n",
      "Stablecoin              0.716865           61.703610             87.493342   \n",
      "\n",
      "                lend_rate  \n",
      "asset_category             \n",
      "Major Crypto     0.513624  \n",
      "Other Crypto     0.382775  \n",
      "Stablecoin      10.778760  \n",
      "\n",
      "Outliers in Other Crypto for utilization_rate:\n",
      "                            name  utilization_rate\n",
      "7      Aave interest bearing PAX          0.748807\n",
      "11  Aave interest bearing RENFIL          0.990290\n",
      "14    Aave interest bearing SUSD          0.749391\n",
      "\n",
      "Outliers in Other Crypto for borrow_stable_rate:\n",
      "                         name  borrow_stable_rate\n",
      "9   Aave interest bearing KNC           20.860750\n",
      "13  Aave interest bearing FEI           23.148543\n",
      "\n",
      "Outliers in Other Crypto for borrow_variable_rate:\n",
      "                         name  borrow_variable_rate\n",
      "5  Aave interest bearing AMPL                 320.0\n",
      "\n",
      "Outliers in Other Crypto for lend_rate:\n",
      "                          name  lend_rate\n",
      "5   Aave interest bearing AMPL   3.200000\n",
      "7    Aave interest bearing PAX   2.803179\n",
      "14  Aave interest bearing SUSD   2.456768\n",
      "\n",
      "Outliers in Stablecoin for utilization_rate:\n",
      "                          name  utilization_rate\n",
      "21  Aave interest bearing BUSD           0.27933\n",
      "\n",
      "Outliers in Stablecoin for borrow_stable_rate:\n",
      "                         name  borrow_stable_rate\n",
      "3  Aave interest bearing TUSD          220.817808\n",
      "\n",
      "Outliers in Stablecoin for lend_rate:\n",
      "                          name  lend_rate\n",
      "32  Aave interest bearing GUSD  32.523556\n"
     ]
    },
    {
     "data": {
      "text/html": [
       "<div>\n",
       "<style scoped>\n",
       "    .dataframe tbody tr th:only-of-type {\n",
       "        vertical-align: middle;\n",
       "    }\n",
       "\n",
       "    .dataframe tbody tr th {\n",
       "        vertical-align: top;\n",
       "    }\n",
       "\n",
       "    .dataframe thead th {\n",
       "        text-align: right;\n",
       "    }\n",
       "</style>\n",
       "<table border=\"1\" class=\"dataframe\">\n",
       "  <thead>\n",
       "    <tr style=\"text-align: right;\">\n",
       "      <th></th>\n",
       "    </tr>\n",
       "  </thead>\n",
       "  <tbody>\n",
       "  </tbody>\n",
       "</table>\n",
       "</div>"
      ],
      "text/plain": [
       "Empty DataFrame\n",
       "Columns: []\n",
       "Index: []"
      ]
     },
     "execution_count": 2,
     "metadata": {},
     "output_type": "execute_result"
    },
    {
     "data": {
      "image/png": "[encoded data removed]",
      "text/plain": [
       "<Figure size 1500x1500 with 3 Axes>"
      ]
     },
     "metadata": {},
     "output_type": "display_data"
    }
   ],
   "source": [
    "import pandas as pd\n",
    "import json\n",
    "import os\n",
    "import matplotlib.pyplot as plt\n",
    "import seaborn as sns\n",
    "from scipy import stats\n",
    "\n",
    "# Set the base directory\n",
    "base_dir = r\"C:\\Users\\tfeder\\Documents\\M2 CLASSES\\Master Thesis\\AAVE_Data\\Questions\\Messari\\AAVE V2 Ethereum\\markets\"\n",
    "\n",
    "# Get the most recent file\n",
    "files = os.listdir(base_dir)\n",
    "latest_file = max(files)\n",
    "\n",
    "# Load the latest market data\n",
    "with open(os.path.join(base_dir, latest_file), 'r') as f:\n",
    "    market_data = json.load(f)\n",
    "\n",
    "# Get the most recent date\n",
    "latest_date = max(market_data.keys())\n",
    "\n",
    "# Create a DataFrame with the latest market data\n",
    "markets_df = pd.DataFrame(market_data[latest_date])\n",
    "\n",
    "# Convert numeric columns from string to float\n",
    "numeric_columns = ['totalValueLockedUSD', 'totalBorrowBalanceUSD', 'totalDepositBalanceUSD']\n",
    "for col in numeric_columns:\n",
    "    markets_df[col] = pd.to_numeric(markets_df[col], errors='coerce')\n",
    "\n",
    "# Calculate utilization rate\n",
    "markets_df['utilization_rate'] = markets_df['totalBorrowBalanceUSD'] / markets_df['totalValueLockedUSD']\n",
    "\n",
    "# Extract interest rates\n",
    "markets_df['borrow_stable_rate'] = markets_df['rates'].apply(lambda x: next((float(rate['rate']) for rate in x if rate['side'] == 'BORROWER' and rate['type'] == 'STABLE'), None))\n",
    "markets_df['borrow_variable_rate'] = markets_df['rates'].apply(lambda x: next((float(rate['rate']) for rate in x if rate['side'] == 'BORROWER' and rate['type'] == 'VARIABLE'), None))\n",
    "markets_df['lend_rate'] = markets_df['rates'].apply(lambda x: next((float(rate['rate']) for rate in x if rate['side'] == 'LENDER'), None))\n",
    "\n",
    "# Categorize assets\n",
    "def categorize_asset(symbol):\n",
    "    stablecoins = ['USDC', 'USDT', 'DAI', 'BUSD', 'TUSD', 'USDP', 'LUSD', 'GUSD', 'FRAX']\n",
    "    if symbol in stablecoins:\n",
    "        return 'Stablecoin'\n",
    "    elif symbol in ['WBTC', 'WETH', 'ETH']:\n",
    "        return 'Major Crypto'\n",
    "    else:\n",
    "        return 'Other Crypto'\n",
    "\n",
    "markets_df['asset_category'] = markets_df['inputToken'].apply(lambda x: categorize_asset(x['symbol']))\n",
    "\n",
    "# Calculate correlations\n",
    "correlations = markets_df.groupby('asset_category').apply(lambda x: x[['utilization_rate', 'borrow_stable_rate', 'borrow_variable_rate', 'lend_rate']].corr().loc['utilization_rate'])\n",
    "\n",
    "print(\"Correlations between utilization rate and interest rates:\")\n",
    "print(correlations)\n",
    "\n",
    "# Plotting\n",
    "plt.figure(figsize=(15, 15))\n",
    "\n",
    "for i, rate_type in enumerate(['borrow_stable_rate', 'borrow_variable_rate', 'lend_rate']):\n",
    "    plt.subplot(3, 1, i+1)\n",
    "    for category in markets_df['asset_category'].unique():\n",
    "        category_data = markets_df[markets_df['asset_category'] == category]\n",
    "        plt.scatter(category_data['utilization_rate'], category_data[rate_type], label=category, alpha=0.7)\n",
    "    \n",
    "    plt.xlabel('Utilization Rate')\n",
    "    plt.ylabel(rate_type.replace('_', ' ').title())\n",
    "    plt.title(f'Utilization Rate vs {rate_type.replace(\"_\", \" \").title()}')\n",
    "    plt.legend()\n",
    "\n",
    "plt.tight_layout()\n",
    "plt.savefig('utilization_vs_rates.png')\n",
    "print(\"Plot saved as 'utilization_vs_rates.png'\")\n",
    "\n",
    "# Calculate average rates and utilization for each category\n",
    "avg_rates = markets_df.groupby('asset_category')[['utilization_rate', 'borrow_stable_rate', 'borrow_variable_rate', 'lend_rate']].mean()\n",
    "print(\"\\nAverage rates and utilization by asset category:\")\n",
    "print(avg_rates)\n",
    "\n",
    "# Identify outliers\n",
    "def find_outliers(group):\n",
    "    for col in ['utilization_rate', 'borrow_stable_rate', 'borrow_variable_rate', 'lend_rate']:\n",
    "        z_scores = stats.zscore(group[col])\n",
    "        outliers = group[abs(z_scores) > 2][['name', col]]\n",
    "        if not outliers.empty:\n",
    "            print(f\"\\nOutliers in {group.name} for {col}:\")\n",
    "            print(outliers)\n",
    "\n",
    "markets_df.groupby('asset_category').apply(find_outliers)"
   ]
  },
  {
   "cell_type": "code",
   "execution_count": 3,
   "id": "bf05a11e",
   "metadata": {},
   "outputs": [
    {
     "name": "stdout",
     "output_type": "stream",
     "text": [
      "Summary graphs have been saved as PNG files.\n"
     ]
    }
   ],
   "source": [
    "import pandas as pd\n",
    "import matplotlib.pyplot as plt\n",
    "import seaborn as sns\n",
    "\n",
    "# Assuming we have the processed data in a DataFrame called 'markets_df'\n",
    "\n",
    "# 1. Box plot of Utilization Rates by Asset Category\n",
    "plt.figure(figsize=(10, 6))\n",
    "sns.boxplot(x='asset_category', y='utilization_rate', data=markets_df)\n",
    "plt.title('Distribution of Utilization Rates by Asset Category')\n",
    "plt.xlabel('Asset Category')\n",
    "plt.ylabel('Utilization Rate')\n",
    "plt.savefig('utilization_rates_by_category.png')\n",
    "plt.close()\n",
    "\n",
    "# 2. Scatter plot of Utilization Rate vs Average Borrow Rate\n",
    "markets_df['avg_borrow_rate'] = (markets_df['borrow_stable_rate'] + markets_df['borrow_variable_rate']) / 2\n",
    "plt.figure(figsize=(10, 6))\n",
    "for category in markets_df['asset_category'].unique():\n",
    "    category_data = markets_df[markets_df['asset_category'] == category]\n",
    "    plt.scatter(category_data['utilization_rate'], category_data['avg_borrow_rate'], label=category, alpha=0.7)\n",
    "plt.title('Utilization Rate vs Average Borrow Rate')\n",
    "plt.xlabel('Utilization Rate')\n",
    "plt.ylabel('Average Borrow Rate (%)')\n",
    "plt.legend()\n",
    "plt.savefig('utilization_vs_avg_borrow_rate.png')\n",
    "plt.close()\n",
    "\n",
    "# 3. Bar plot of Average Rates by Asset Category\n",
    "avg_rates = markets_df.groupby('asset_category')[['borrow_stable_rate', 'borrow_variable_rate', 'lend_rate']].mean()\n",
    "avg_rates.plot(kind='bar', figsize=(10, 6))\n",
    "plt.title('Average Rates by Asset Category')\n",
    "plt.xlabel('Asset Category')\n",
    "plt.ylabel('Rate (%)')\n",
    "plt.legend(['Stable Borrow Rate', 'Variable Borrow Rate', 'Lend Rate'])\n",
    "plt.savefig('average_rates_by_category.png')\n",
    "plt.close()\n",
    "\n",
    "# 4. (Optional) Heatmap of correlations between utilization and rates\n",
    "correlation_data = markets_df.groupby('asset_category').apply(lambda x: x[['utilization_rate', 'borrow_stable_rate', 'borrow_variable_rate', 'lend_rate']].corr()['utilization_rate'])\n",
    "plt.figure(figsize=(10, 6))\n",
    "sns.heatmap(correlation_data, annot=True, cmap='coolwarm', vmin=-1, vmax=1, center=0)\n",
    "plt.title('Correlation of Utilization Rate with Interest Rates')\n",
    "plt.savefig('utilization_rate_correlations.png')\n",
    "plt.close()\n",
    "\n",
    "print(\"Summary graphs have been saved as PNG files.\")"
   ]
  },
  {
   "cell_type": "markdown",
   "id": "173a0ea6",
   "metadata": {},
   "source": [
    "## Analysis\n",
    "\n",
    "Certainly! Let's analyze the results of the Aave user behavior study:\n",
    "\n",
    "Top 5 Markets by TVL:\n",
    "The top markets are dominated by major cryptocurrencies (STETH, WBTC, WETH) and stablecoins (USDC, USDT). STETH (staked ETH) leads with nearly $1 billion in TVL, indicating strong interest in Ethereum staking within the Aave ecosystem.\n",
    "User Composition:\n",
    "\n",
    "Both (Lenders and Borrowers): 48.77%\n",
    "Lender only: 48.06%\n",
    "Borrower only: 3.17%\n",
    "\n",
    "This distribution shows that most users engage in either lending or both lending and borrowing. Pure borrowers are relatively rare, suggesting that most borrowers also provide collateral or lend in other markets.\n",
    "Average Positions per User Category:\n",
    "\n",
    "Both: 14.98 positions\n",
    "Lender: 10.42 positions\n",
    "Borrower: 3.42 positions\n",
    "\n",
    "Users who both lend and borrow are the most active, holding the highest number of positions on average. This indicates that these users are likely more experienced and engaged with the protocol.\n",
    "Average Total Balance (USD) per User Category:\n",
    "\n",
    "Both: $53,115,020\n",
    "Lender: $29,817,110\n",
    "Borrower: $365,541\n",
    "\n",
    "Users who both lend and borrow have significantly higher average balances, suggesting they are likely larger investors or institutions. Pure borrowers have much smaller average balances.\n",
    "Median Total Balance (USD) per User Category:\n",
    "\n",
    "Borrower: $9,000\n",
    "Both: $6,112\n",
    "Lender: $1,173\n",
    "\n",
    "Interestingly, the median balances show a different pattern from the averages. Pure borrowers have the highest median balance, indicating that while there are fewer of them, they tend to borrow larger amounts. The large difference between average and median balances suggests a skewed distribution with some very large users influencing the averages.\n",
    "Top Markets User Behavior:\n",
    "\n",
    "STETH: Primarily used as collateral, with over 23,000 users and a very high total balance.\n",
    "WBTC: Used both for borrowing and as collateral, with more users using it as collateral.\n",
    "USDC: High usage for both borrowing and collateral, with more users borrowing but larger amounts used as collateral.\n",
    "USDT: Similar pattern to USDC, but with fewer users.\n",
    "WETH: Widely used as collateral, with over 40,000 users, and also significant borrowing activity.\n",
    "\n",
    "\n",
    "User Overlap Between Markets:\n",
    "\n",
    "41,475 users are active in only one market\n",
    "34,639 users are active in two markets\n",
    "8,203 users are active in three markets\n",
    "3,302 users are active in four markets\n",
    "478 users are active in all five top markets\n",
    "\n",
    "This shows that while many users stick to one or two markets, there's a significant number of users who diversify across multiple markets.\n",
    "\n",
    "Key Insights:\n",
    "\n",
    "The majority of users engage in lending or both lending and borrowing, with pure borrowers being a small minority.\n",
    "Users who both lend and borrow are the most active and have the highest average balances, suggesting they are more experienced or institutional users.\n",
    "There's a significant disparity between average and median balances, indicating the presence of some very large users or \"whales\" in the ecosystem.\n",
    "Stablecoins (USDC, USDT) play a crucial role in both borrowing and collateral, while major cryptocurrencies (STETH, WBTC, WETH) are primarily used as collateral.\n",
    "There's a good degree of user diversification across markets, with many users active in multiple markets.\n",
    "\n",
    "These insights suggest a mature and diverse ecosystem within Aave, with users employing various strategies across different markets. The presence of large users alongside smaller ones indicates a mix of retail and potentially institutional participation."
   ]
  },
  {
   "cell_type": "code",
   "execution_count": 5,
   "id": "d930252f",
   "metadata": {},
   "outputs": [
    {
     "ename": "NameError",
     "evalue": "name 'positions_df' is not defined",
     "output_type": "error",
     "traceback": [
      "\u001b[1;31m---------------------------------------------------------------------------\u001b[0m",
      "\u001b[1;31mNameError\u001b[0m                                 Traceback (most recent call last)",
      "Cell \u001b[1;32mIn[5], line 1\u001b[0m\n\u001b[1;32m----> 1\u001b[0m positions_df\u001b[38;5;241m.\u001b[39minfo()\n",
      "\u001b[1;31mNameError\u001b[0m: name 'positions_df' is not defined"
     ]
    }
   ],
   "source": [
    "positions_df.info()"
   ]
  },
  {
   "cell_type": "code",
   "execution_count": 6,
   "id": "cd4ce573",
   "metadata": {},
   "outputs": [
    {
     "name": "stdout",
     "output_type": "stream",
     "text": [
      "Error generating user_composition.png: name 'user_behavior' is not defined\n",
      "Successfully generated and saved top_5_markets.png\n",
      "Error generating avg_balance.png: name 'avg_balance' is not defined\n",
      "Script execution completed.\n"
     ]
    },
    {
     "data": {
      "text/plain": [
       "<Figure size 1200x600 with 0 Axes>"
      ]
     },
     "metadata": {},
     "output_type": "display_data"
    },
    {
     "data": {
      "text/plain": [
       "<Figure size 1200x600 with 0 Axes>"
      ]
     },
     "metadata": {},
     "output_type": "display_data"
    }
   ],
   "source": [
    "import pandas as pd\n",
    "import matplotlib.pyplot as plt\n",
    "import seaborn as sns\n",
    "\n",
    "# Set style for better-looking graphs\n",
    "plt.style.use('seaborn-v0_8')\n",
    "\n",
    "def safe_plot(plot_func, filename):\n",
    "    try:\n",
    "        plt.figure(figsize=(12, 6))\n",
    "        plot_func()\n",
    "        plt.tight_layout()\n",
    "        plt.savefig(filename)\n",
    "        plt.close()\n",
    "        print(f\"Successfully generated and saved {filename}\")\n",
    "    except Exception as e:\n",
    "        print(f\"Error generating {filename}: {str(e)}\")\n",
    "\n",
    "# 1. User Composition Pie Chart\n",
    "def plot_user_composition():\n",
    "    user_composition = user_behavior['category'].value_counts()\n",
    "    plt.pie(user_composition, labels=user_composition.index, autopct='%1.1f%%', startangle=90)\n",
    "    plt.title('User Composition in Aave')\n",
    "    plt.axis('equal')\n",
    "\n",
    "safe_plot(plot_user_composition, 'user_composition.png')\n",
    "\n",
    "# 2. Top 5 Markets by TVL Bar Chart\n",
    "def plot_top_markets():\n",
    "    sns.barplot(x='name', y='totalValueLockedUSD', data=top_markets)\n",
    "    plt.title('Top 5 Aave Markets by Total Value Locked (TVL)')\n",
    "    plt.xlabel('Market')\n",
    "    plt.ylabel('TVL (USD)')\n",
    "    plt.xticks(rotation=45, ha='right')\n",
    "\n",
    "safe_plot(plot_top_markets, 'top_5_markets.png')\n",
    "\n",
    "# 3. Average Balance by User Category (Log Scale)\n",
    "def plot_avg_balance():\n",
    "    sns.barplot(x=avg_balance.index, y=avg_balance.values)\n",
    "    plt.title('Average Total Balance by User Category')\n",
    "    plt.xlabel('User Category')\n",
    "    plt.ylabel('Average Balance (USD, Log Scale)')\n",
    "    plt.yscale('log')\n",
    "\n",
    "safe_plot(plot_avg_balance, 'avg_balance.png')\n",
    "\n",
    "\n",
    "print(\"Script execution completed.\")"
   ]
  },
  {
   "cell_type": "code",
   "execution_count": 7,
   "id": "9a6243ea",
   "metadata": {},
   "outputs": [
    {
     "name": "stdout",
     "output_type": "stream",
     "text": [
      "Error generating user_activity.png: name 'user_market_presence' is not defined\n",
      "Error generating market_usage.png: name 'market_behavior' is not defined\n",
      "Script execution completed.\n"
     ]
    },
    {
     "data": {
      "text/plain": [
       "<Figure size 1200x600 with 0 Axes>"
      ]
     },
     "metadata": {},
     "output_type": "display_data"
    },
    {
     "data": {
      "text/plain": [
       "<Figure size 1200x600 with 0 Axes>"
      ]
     },
     "metadata": {},
     "output_type": "display_data"
    }
   ],
   "source": [
    "import pandas as pd\n",
    "import matplotlib.pyplot as plt\n",
    "import seaborn as sns\n",
    "\n",
    "plt.style.use('seaborn-v0_8')\n",
    "\n",
    "def safe_plot(plot_func, filename):\n",
    "    try:\n",
    "        plt.figure(figsize=(12, 6))\n",
    "        plot_func()\n",
    "        plt.tight_layout()\n",
    "        plt.savefig(filename)\n",
    "        plt.close()\n",
    "        print(f\"Successfully generated and saved {filename}\")\n",
    "    except Exception as e:\n",
    "        print(f\"Error generating {filename}: {str(e)}\")\n",
    "\n",
    "# Plots 1-3 remain the same...\n",
    "\n",
    "# 4. User Activity Across Markets (Adjusted)\n",
    "def plot_user_activity():\n",
    "    market_count = user_market_presence.value_counts().sort_index()\n",
    "    sns.barplot(x=market_count.index, y=market_count.values)\n",
    "    plt.title('User Activity Across Multiple Markets')\n",
    "    plt.xlabel('Number of Markets')\n",
    "    plt.ylabel('Number of Users')\n",
    "    plt.xticks(rotation=0)\n",
    "\n",
    "safe_plot(plot_user_activity, 'user_activity.png')\n",
    "\n",
    "# 5. Market Usage: Borrowing vs Collateral\n",
    "def plot_market_usage():\n",
    "    print(\"market_behavior shape:\", market_behavior.shape)\n",
    "    print(\"market_behavior head:\")\n",
    "    print(market_behavior.head())\n",
    "    print(\"market_behavior columns:\", market_behavior.columns)\n",
    "    \n",
    "    # Check if necessary columns exist\n",
    "    required_columns = ['name', 'position_side', 'unique_users']\n",
    "    if not all(col in market_behavior.columns for col in required_columns):\n",
    "        print(\"Error: market_behavior is missing one or more required columns\")\n",
    "        return\n",
    "    \n",
    "    market_usage = market_behavior.pivot(index='name', columns='position_side', values='unique_users')\n",
    "    print(\"market_usage shape:\", market_usage.shape)\n",
    "    print(\"market_usage head:\")\n",
    "    print(market_usage.head())\n",
    "    \n",
    "    market_usage.plot(kind='bar', stacked=True)\n",
    "    plt.title('Market Usage: Borrowing vs Collateral')\n",
    "    plt.xlabel('Market')\n",
    "    plt.ylabel('Number of Users')\n",
    "    plt.legend(title='Position Side')\n",
    "    plt.xticks(rotation=45, ha='right')\n",
    "\n",
    "safe_plot(plot_market_usage, 'market_usage.png')\n",
    "\n",
    "print(\"Script execution completed.\")"
   ]
  },
  {
   "cell_type": "code",
   "execution_count": 8,
   "id": "8df87c42",
   "metadata": {},
   "outputs": [
    {
     "name": "stdout",
     "output_type": "stream",
     "text": [
      "Loading market data...\n"
     ]
    },
    {
     "name": "stderr",
     "output_type": "stream",
     "text": [
      "\r",
      "Loading files:   0%|                                                                            | 0/38 [00:00<?, ?it/s]"
     ]
    },
    {
     "name": "stdout",
     "output_type": "stream",
     "text": [
      "Processing file: markets_2020-11-30.json\n",
      "File size: 0.01 MB\n",
      "Finished processing markets_2020-11-30.json in 0.02 seconds\n",
      "Processing file: markets_2020-12-31.json\n",
      "File size: 34.70 MB\n"
     ]
    },
    {
     "name": "stderr",
     "output_type": "stream",
     "text": [
      "\r",
      "Loading files:   5%|███▌                                                                | 2/38 [00:01<00:23,  1.51it/s]"
     ]
    },
    {
     "name": "stdout",
     "output_type": "stream",
     "text": [
      "Finished processing markets_2020-12-31.json in 1.30 seconds\n",
      "Processing file: markets_2021-01-31.json\n",
      "File size: 41.24 MB\n"
     ]
    },
    {
     "name": "stderr",
     "output_type": "stream",
     "text": [
      "\r",
      "Loading files:   8%|█████▎                                                              | 3/38 [00:02<00:37,  1.08s/it]"
     ]
    },
    {
     "name": "stdout",
     "output_type": "stream",
     "text": [
      "Finished processing markets_2021-01-31.json in 1.65 seconds\n",
      "Processing file: markets_2021-02-28.json\n",
      "File size: 40.18 MB\n"
     ]
    },
    {
     "name": "stderr",
     "output_type": "stream",
     "text": [
      "\r",
      "Loading files:  11%|███████▏                                                            | 4/38 [00:05<00:51,  1.52s/it]"
     ]
    },
    {
     "name": "stdout",
     "output_type": "stream",
     "text": [
      "Finished processing markets_2021-02-28.json in 2.25 seconds\n",
      "Processing file: markets_2021-03-31.json\n",
      "File size: 45.96 MB\n"
     ]
    },
    {
     "name": "stderr",
     "output_type": "stream",
     "text": [
      "\r",
      "Loading files:  13%|████████▉                                                           | 5/38 [00:08<01:04,  1.97s/it]"
     ]
    },
    {
     "name": "stdout",
     "output_type": "stream",
     "text": [
      "Finished processing markets_2021-03-31.json in 2.80 seconds\n",
      "Processing file: markets_2021-04-30.json\n",
      "File size: 45.09 MB\n"
     ]
    },
    {
     "name": "stderr",
     "output_type": "stream",
     "text": [
      "\r",
      "Loading files:  16%|██████████▋                                                         | 6/38 [00:15<01:58,  3.71s/it]"
     ]
    },
    {
     "name": "stdout",
     "output_type": "stream",
     "text": [
      "Finished processing markets_2021-04-30.json in 7.22 seconds\n",
      "Processing file: markets_2021-05-31.json\n",
      "File size: 49.78 MB\n"
     ]
    },
    {
     "name": "stderr",
     "output_type": "stream",
     "text": [
      "\r",
      "Loading files:  18%|████████████▌                                                       | 7/38 [00:17<01:41,  3.28s/it]"
     ]
    },
    {
     "name": "stdout",
     "output_type": "stream",
     "text": [
      "Finished processing markets_2021-05-31.json in 2.36 seconds\n",
      "Processing file: markets_2021-06-30.json\n",
      "File size: 48.99 MB\n"
     ]
    },
    {
     "name": "stderr",
     "output_type": "stream",
     "text": [
      "\r",
      "Loading files:  21%|██████████████▎                                                     | 8/38 [00:19<01:26,  2.90s/it]"
     ]
    },
    {
     "name": "stdout",
     "output_type": "stream",
     "text": [
      "Finished processing markets_2021-06-30.json in 2.06 seconds\n",
      "Processing file: markets_2021-07-31.json\n",
      "File size: 52.55 MB\n"
     ]
    },
    {
     "name": "stderr",
     "output_type": "stream",
     "text": [
      "\r",
      "Loading files:  24%|████████████████                                                    | 9/38 [00:22<01:24,  2.92s/it]"
     ]
    },
    {
     "name": "stdout",
     "output_type": "stream",
     "text": [
      "Finished processing markets_2021-07-31.json in 2.97 seconds\n",
      "Processing file: markets_2021-08-31.json\n",
      "File size: 55.86 MB\n"
     ]
    },
    {
     "name": "stderr",
     "output_type": "stream",
     "text": [
      "\r",
      "Loading files:  26%|█████████████████▋                                                 | 10/38 [00:27<01:37,  3.48s/it]"
     ]
    },
    {
     "name": "stdout",
     "output_type": "stream",
     "text": [
      "Finished processing markets_2021-08-31.json in 4.73 seconds\n",
      "Processing file: markets_2021-09-30.json\n",
      "File size: 58.06 MB\n"
     ]
    },
    {
     "name": "stderr",
     "output_type": "stream",
     "text": [
      "\r",
      "Loading files:  29%|███████████████████▍                                               | 11/38 [00:30<01:33,  3.46s/it]"
     ]
    },
    {
     "name": "stdout",
     "output_type": "stream",
     "text": [
      "Finished processing markets_2021-09-30.json in 3.42 seconds\n",
      "Processing file: markets_2021-10-31.json\n",
      "File size: 63.03 MB\n"
     ]
    },
    {
     "name": "stderr",
     "output_type": "stream",
     "text": [
      "\r",
      "Loading files:  32%|█████████████████████▏                                             | 12/38 [00:34<01:33,  3.58s/it]"
     ]
    },
    {
     "name": "stdout",
     "output_type": "stream",
     "text": [
      "Finished processing markets_2021-10-31.json in 3.87 seconds\n",
      "Processing file: markets_2021-11-30.json\n",
      "File size: 61.44 MB\n"
     ]
    },
    {
     "name": "stderr",
     "output_type": "stream",
     "text": [
      "\r",
      "Loading files:  34%|██████████████████████▉                                            | 13/38 [00:40<01:48,  4.36s/it]"
     ]
    },
    {
     "name": "stdout",
     "output_type": "stream",
     "text": [
      "Finished processing markets_2021-11-30.json in 6.14 seconds\n",
      "Processing file: markets_2021-12-31.json\n",
      "File size: 63.91 MB\n"
     ]
    },
    {
     "name": "stderr",
     "output_type": "stream",
     "text": [
      "\r",
      "Loading files:  37%|████████████████████████▋                                          | 14/38 [00:44<01:41,  4.24s/it]"
     ]
    },
    {
     "name": "stdout",
     "output_type": "stream",
     "text": [
      "Finished processing markets_2021-12-31.json in 3.95 seconds\n",
      "Processing file: markets_2022-01-31.json\n",
      "File size: 63.91 MB\n"
     ]
    },
    {
     "name": "stderr",
     "output_type": "stream",
     "text": [
      "\r",
      "Loading files:  39%|██████████████████████████▍                                        | 15/38 [00:48<01:32,  4.04s/it]"
     ]
    },
    {
     "name": "stdout",
     "output_type": "stream",
     "text": [
      "Finished processing markets_2022-01-31.json in 3.58 seconds\n",
      "Processing file: markets_2022-02-28.json\n",
      "File size: 57.80 MB\n"
     ]
    },
    {
     "name": "stderr",
     "output_type": "stream",
     "text": [
      "\r",
      "Loading files:  42%|████████████████████████████▏                                      | 16/38 [00:51<01:21,  3.69s/it]"
     ]
    },
    {
     "name": "stdout",
     "output_type": "stream",
     "text": [
      "Finished processing markets_2022-02-28.json in 2.87 seconds\n",
      "Processing file: markets_2022-03-31.json\n",
      "File size: 67.98 MB\n"
     ]
    },
    {
     "name": "stderr",
     "output_type": "stream",
     "text": [
      "\r",
      "Loading files:  45%|█████████████████████████████▉                                     | 17/38 [00:55<01:23,  3.99s/it]"
     ]
    },
    {
     "name": "stdout",
     "output_type": "stream",
     "text": [
      "Finished processing markets_2022-03-31.json in 4.69 seconds\n",
      "Processing file: markets_2022-04-30.json\n",
      "File size: 67.25 MB\n"
     ]
    },
    {
     "name": "stderr",
     "output_type": "stream",
     "text": [
      "\r",
      "Loading files:  47%|███████████████████████████████▋                                   | 18/38 [00:59<01:17,  3.86s/it]"
     ]
    },
    {
     "name": "stdout",
     "output_type": "stream",
     "text": [
      "Finished processing markets_2022-04-30.json in 3.54 seconds\n",
      "Processing file: markets_2022-05-31.json\n",
      "File size: 69.75 MB\n"
     ]
    },
    {
     "name": "stderr",
     "output_type": "stream",
     "text": [
      "\r",
      "Loading files:  50%|█████████████████████████████████▌                                 | 19/38 [01:02<01:11,  3.75s/it]"
     ]
    },
    {
     "name": "stdout",
     "output_type": "stream",
     "text": [
      "Finished processing markets_2022-05-31.json in 3.49 seconds\n",
      "Processing file: markets_2022-06-30.json\n",
      "File size: 68.41 MB\n"
     ]
    },
    {
     "name": "stderr",
     "output_type": "stream",
     "text": [
      "\r",
      "Loading files:  53%|███████████████████████████████████▎                               | 20/38 [01:10<01:28,  4.93s/it]"
     ]
    },
    {
     "name": "stdout",
     "output_type": "stream",
     "text": [
      "Finished processing markets_2022-06-30.json in 7.68 seconds\n",
      "Processing file: markets_2022-07-31.json\n",
      "File size: 71.73 MB\n"
     ]
    },
    {
     "name": "stderr",
     "output_type": "stream",
     "text": [
      "\r",
      "Loading files:  55%|█████████████████████████████████████                              | 21/38 [01:14<01:17,  4.57s/it]"
     ]
    },
    {
     "name": "stdout",
     "output_type": "stream",
     "text": [
      "Finished processing markets_2022-07-31.json in 3.74 seconds\n",
      "Processing file: markets_2022-08-31.json\n",
      "File size: 73.58 MB\n"
     ]
    },
    {
     "name": "stderr",
     "output_type": "stream",
     "text": [
      "\r",
      "Loading files:  58%|██████████████████████████████████████▊                            | 22/38 [01:18<01:09,  4.33s/it]"
     ]
    },
    {
     "name": "stdout",
     "output_type": "stream",
     "text": [
      "Finished processing markets_2022-08-31.json in 3.76 seconds\n",
      "Processing file: markets_2022-09-30.json\n",
      "File size: 72.95 MB\n"
     ]
    },
    {
     "name": "stderr",
     "output_type": "stream",
     "text": [
      "\r",
      "Loading files:  61%|████████████████████████████████████████▌                          | 23/38 [01:21<01:02,  4.17s/it]"
     ]
    },
    {
     "name": "stdout",
     "output_type": "stream",
     "text": [
      "Finished processing markets_2022-09-30.json in 3.79 seconds\n",
      "Processing file: markets_2022-10-31.json\n",
      "File size: 75.45 MB\n"
     ]
    },
    {
     "name": "stderr",
     "output_type": "stream",
     "text": [
      "\r",
      "Loading files:  63%|██████████████████████████████████████████▎                        | 24/38 [01:26<00:58,  4.17s/it]"
     ]
    },
    {
     "name": "stdout",
     "output_type": "stream",
     "text": [
      "Finished processing markets_2022-10-31.json in 4.18 seconds\n",
      "Processing file: markets_2022-11-30.json\n",
      "File size: 73.19 MB\n"
     ]
    },
    {
     "name": "stderr",
     "output_type": "stream",
     "text": [
      "\r",
      "Loading files:  66%|████████████████████████████████████████████                       | 25/38 [01:32<01:02,  4.83s/it]"
     ]
    },
    {
     "name": "stdout",
     "output_type": "stream",
     "text": [
      "Finished processing markets_2022-11-30.json in 6.37 seconds\n",
      "Processing file: markets_2022-12-31.json\n",
      "File size: 75.63 MB\n"
     ]
    },
    {
     "name": "stderr",
     "output_type": "stream",
     "text": [
      "\r",
      "Loading files:  68%|█████████████████████████████████████████████▊                     | 26/38 [01:38<01:01,  5.14s/it]"
     ]
    },
    {
     "name": "stdout",
     "output_type": "stream",
     "text": [
      "Finished processing markets_2022-12-31.json in 5.87 seconds\n",
      "Processing file: markets_2023-01-31.json\n",
      "File size: 75.62 MB\n"
     ]
    },
    {
     "name": "stderr",
     "output_type": "stream",
     "text": [
      "\r",
      "Loading files:  71%|███████████████████████████████████████████████▌                   | 27/38 [01:41<00:51,  4.67s/it]"
     ]
    },
    {
     "name": "stdout",
     "output_type": "stream",
     "text": [
      "Finished processing markets_2023-01-31.json in 3.57 seconds\n",
      "Processing file: markets_2023-02-28.json\n",
      "File size: 68.30 MB\n"
     ]
    },
    {
     "name": "stderr",
     "output_type": "stream",
     "text": [
      "\r",
      "Loading files:  74%|█████████████████████████████████████████████████▎                 | 28/38 [02:03<01:36,  9.61s/it]"
     ]
    },
    {
     "name": "stdout",
     "output_type": "stream",
     "text": [
      "Finished processing markets_2023-02-28.json in 21.11 seconds\n",
      "Processing file: markets_2023-03-31.json\n",
      "File size: 75.65 MB\n"
     ]
    },
    {
     "name": "stderr",
     "output_type": "stream",
     "text": [
      "\r",
      "Loading files:  76%|███████████████████████████████████████████████████▏               | 29/38 [02:08<01:14,  8.31s/it]"
     ]
    },
    {
     "name": "stdout",
     "output_type": "stream",
     "text": [
      "Finished processing markets_2023-03-31.json in 5.27 seconds\n",
      "Processing file: markets_2023-04-30.json\n",
      "File size: 73.24 MB\n"
     ]
    },
    {
     "name": "stderr",
     "output_type": "stream",
     "text": [
      "\r",
      "Loading files:  79%|████████████████████████████████████████████████████▉              | 30/38 [02:12<00:57,  7.18s/it]"
     ]
    },
    {
     "name": "stdout",
     "output_type": "stream",
     "text": [
      "Finished processing markets_2023-04-30.json in 4.56 seconds\n",
      "Processing file: markets_2023-05-31.json\n",
      "File size: 75.67 MB\n"
     ]
    },
    {
     "name": "stderr",
     "output_type": "stream",
     "text": [
      "\r",
      "Loading files:  82%|██████████████████████████████████████████████████████▋            | 31/38 [02:17<00:44,  6.39s/it]"
     ]
    },
    {
     "name": "stdout",
     "output_type": "stream",
     "text": [
      "Finished processing markets_2023-05-31.json in 4.55 seconds\n",
      "Processing file: markets_2023-06-30.json\n",
      "File size: 73.23 MB\n"
     ]
    },
    {
     "name": "stderr",
     "output_type": "stream",
     "text": [
      "\r",
      "Loading files:  84%|████████████████████████████████████████████████████████▍          | 32/38 [02:22<00:35,  5.86s/it]"
     ]
    },
    {
     "name": "stdout",
     "output_type": "stream",
     "text": [
      "Finished processing markets_2023-06-30.json in 4.60 seconds\n",
      "Processing file: markets_2023-07-31.json\n",
      "File size: 75.80 MB\n"
     ]
    },
    {
     "name": "stderr",
     "output_type": "stream",
     "text": [
      "\r",
      "Loading files:  87%|██████████████████████████████████████████████████████████▏        | 33/38 [02:28<00:30,  6.01s/it]"
     ]
    },
    {
     "name": "stdout",
     "output_type": "stream",
     "text": [
      "Finished processing markets_2023-07-31.json in 6.35 seconds\n",
      "Processing file: markets_2023-08-31.json\n",
      "File size: 75.93 MB\n"
     ]
    },
    {
     "name": "stderr",
     "output_type": "stream",
     "text": [
      "\r",
      "Loading files:  89%|███████████████████████████████████████████████████████████▉       | 34/38 [02:32<00:22,  5.50s/it]"
     ]
    },
    {
     "name": "stdout",
     "output_type": "stream",
     "text": [
      "Finished processing markets_2023-08-31.json in 4.32 seconds\n",
      "Processing file: markets_2023-09-30.json\n",
      "File size: 73.47 MB\n"
     ]
    },
    {
     "name": "stderr",
     "output_type": "stream",
     "text": [
      "\r",
      "Loading files:  92%|█████████████████████████████████████████████████████████████▋     | 35/38 [02:36<00:14,  4.95s/it]"
     ]
    },
    {
     "name": "stdout",
     "output_type": "stream",
     "text": [
      "Finished processing markets_2023-09-30.json in 3.66 seconds\n",
      "Processing file: markets_2023-10-31.json\n",
      "File size: 75.96 MB\n"
     ]
    },
    {
     "name": "stderr",
     "output_type": "stream",
     "text": [
      "\r",
      "Loading files:  95%|███████████████████████████████████████████████████████████████▍   | 36/38 [02:40<00:09,  4.71s/it]"
     ]
    },
    {
     "name": "stdout",
     "output_type": "stream",
     "text": [
      "Finished processing markets_2023-10-31.json in 4.14 seconds\n",
      "Processing file: markets_2023-11-30.json\n",
      "File size: 73.52 MB\n"
     ]
    },
    {
     "name": "stderr",
     "output_type": "stream",
     "text": [
      "\r",
      "Loading files:  97%|█████████████████████████████████████████████████████████████████▏ | 37/38 [02:45<00:04,  4.81s/it]"
     ]
    },
    {
     "name": "stdout",
     "output_type": "stream",
     "text": [
      "Finished processing markets_2023-11-30.json in 5.05 seconds\n",
      "Processing file: markets_2023-12-31.json\n",
      "File size: 75.86 MB\n"
     ]
    },
    {
     "name": "stderr",
     "output_type": "stream",
     "text": [
      "Loading files: 100%|███████████████████████████████████████████████████████████████████| 38/38 [03:44<00:00,  5.90s/it]"
     ]
    },
    {
     "name": "stdout",
     "output_type": "stream",
     "text": [
      "Finished processing markets_2023-12-31.json in 58.73 seconds\n"
     ]
    },
    {
     "name": "stderr",
     "output_type": "stream",
     "text": [
      "\n"
     ]
    },
    {
     "name": "stdout",
     "output_type": "stream",
     "text": [
      "Data loaded. Processing...\n",
      "Extracting rates...\n",
      "Identifying low rates...\n",
      "\n",
      "Summary of Low Interest Rate Occurrences:\n",
      "name\n",
      "Aave interest bearing AAVE      27009\n",
      "Aave interest bearing SUSD      26986\n",
      "Aave interest bearing SNX       26986\n",
      "Aave interest bearing BUSD      25938\n",
      "Aave interest bearing XSUSHI    25203\n",
      "Aave interest bearing RENFIL    23508\n",
      "Aave interest bearing ZRX       21781\n",
      "Aave interest bearing AMPL      21364\n",
      "Aave interest bearing PAX       21324\n",
      "Aave interest bearing DPI       20694\n",
      "Aave interest bearing UNI       20638\n",
      "Aave interest bearing MKR       20240\n",
      "Aave interest bearing FRAX      20185\n",
      "Aave interest bearing WBTC      19206\n",
      "Aave interest bearing ENJ       16814\n",
      "Aave interest bearing REN       16272\n",
      "Aave interest bearing STETH     16135\n",
      "Aave interest bearing ENS       15953\n",
      "Aave interest bearing YFI       15227\n",
      "Aave interest bearing MANA      14811\n",
      "Aave interest bearing 1INCH     12443\n",
      "Aave interest bearing LINK      12207\n",
      "Aave interest bearing UST        9894\n",
      "Aave interest bearing WETH       8431\n",
      "Aave interest bearing FEI        7961\n",
      "Aave interest bearing BAT        6295\n",
      "Aave interest bearing KNC        1645\n",
      "Aave interest bearing BAL        1609\n",
      "Aave interest bearing CRV         862\n",
      "Aave interest bearing CVX         227\n",
      "Aave interest bearing TUSD        151\n",
      "Aave interest bearing RAI          56\n",
      "Aave interest bearing USDC         25\n",
      "Aave interest bearing GUSD         12\n",
      "Aave interest bearing USDT          8\n",
      "Aave interest bearing LUSD          7\n",
      "Aave interest bearing DAI           6\n",
      "dtype: int64\n",
      "\n",
      "Detailed view of Low Interest Rate Instances (Top 10):\n",
      "Market: Aave interest bearing WETH\n",
      "Date: 2020-11-30 23:00:00\n",
      "Lender Variable Rate: 0.0%\n",
      "Borrower Stable Rate: 3.0%\n",
      "Borrower Variable Rate: 0.0%\n",
      "---\n",
      "Market: Aave interest bearing WETH\n",
      "Date: 2020-12-01 00:00:00\n",
      "Lender Variable Rate: 0.0%\n",
      "Borrower Stable Rate: 3.0%\n",
      "Borrower Variable Rate: 0.0%\n",
      "---\n",
      "Market: Aave interest bearing WETH\n",
      "Date: 2020-12-01 01:00:00\n",
      "Lender Variable Rate: 0.0%\n",
      "Borrower Stable Rate: 3.0%\n",
      "Borrower Variable Rate: 0.0%\n",
      "---\n",
      "Market: Aave interest bearing WETH\n",
      "Date: 2020-12-01 02:00:00\n",
      "Lender Variable Rate: 0.0%\n",
      "Borrower Stable Rate: 3.0%\n",
      "Borrower Variable Rate: 0.0%\n",
      "---\n",
      "Market: Aave interest bearing WETH\n",
      "Date: 2020-12-01 03:00:00\n",
      "Lender Variable Rate: 0.0%\n",
      "Borrower Stable Rate: 3.0%\n",
      "Borrower Variable Rate: 0.0%\n",
      "---\n",
      "Market: Aave interest bearing WETH\n",
      "Date: 2020-12-01 04:00:00\n",
      "Lender Variable Rate: 0.0%\n",
      "Borrower Stable Rate: 3.0%\n",
      "Borrower Variable Rate: 0.0%\n",
      "---\n",
      "Market: Aave interest bearing WETH\n",
      "Date: 2020-12-01 05:00:00\n",
      "Lender Variable Rate: 0.0%\n",
      "Borrower Stable Rate: 3.0%\n",
      "Borrower Variable Rate: 0.0%\n",
      "---\n",
      "Market: Aave interest bearing WETH\n",
      "Date: 2020-12-01 06:00:00\n",
      "Lender Variable Rate: 0.0%\n",
      "Borrower Stable Rate: 3.0%\n",
      "Borrower Variable Rate: 0.0%\n",
      "---\n",
      "Market: Aave interest bearing WETH\n",
      "Date: 2020-12-01 07:00:00\n",
      "Lender Variable Rate: 0.0%\n",
      "Borrower Stable Rate: 3.0%\n",
      "Borrower Variable Rate: 0.0%\n",
      "---\n",
      "Market: Aave interest bearing WETH\n",
      "Date: 2020-12-01 08:00:00\n",
      "Lender Variable Rate: 0.0%\n",
      "Borrower Stable Rate: 3.0%\n",
      "Borrower Variable Rate: 0.0%\n",
      "---\n",
      "Calculating low rate percentages...\n",
      "\n",
      "Percentage of time markets had low interest rates:\n",
      "name\n",
      "Aave interest bearing FRAX      100.000000\n",
      "Aave interest bearing AMPL      100.000000\n",
      "Aave interest bearing XSUSHI    100.000000\n",
      "Aave interest bearing AAVE       99.996298\n",
      "Aave interest bearing DPI        99.995168\n",
      "Aave interest bearing STETH      99.993803\n",
      "Aave interest bearing ENS        99.993732\n",
      "Aave interest bearing SUSD       99.911144\n",
      "Aave interest bearing SNX        99.911144\n",
      "Aave interest bearing PAX        99.887577\n",
      "Aave interest bearing 1INCH      99.839525\n",
      "Aave interest bearing RENFIL     99.779287\n",
      "Aave interest bearing BUSD       96.031100\n",
      "Aave interest bearing ZRX        80.595745\n",
      "Aave interest bearing UNI        76.366327\n",
      "Aave interest bearing MKR        74.935209\n",
      "Aave interest bearing WBTC       71.067530\n",
      "Aave interest bearing UST        62.727446\n",
      "Aave interest bearing ENJ        62.251018\n",
      "Aave interest bearing REN        60.244354\n",
      "Aave interest bearing YFI        56.344126\n",
      "Aave interest bearing MANA       54.835246\n",
      "Aave interest bearing LINK       45.194372\n",
      "Aave interest bearing FEI        39.854819\n",
      "Aave interest bearing WETH       31.197040\n",
      "Aave interest bearing BAT        23.306183\n",
      "Aave interest bearing BAL         6.312279\n",
      "Aave interest bearing KNC         6.090337\n",
      "Aave interest bearing CRV         3.267751\n",
      "Aave interest bearing CVX         1.669854\n",
      "Aave interest bearing TUSD        0.559052\n",
      "Aave interest bearing RAI         0.252093\n",
      "Aave interest bearing USDC        0.092558\n",
      "Aave interest bearing LUSD        0.059620\n",
      "Aave interest bearing GUSD        0.045737\n",
      "Aave interest bearing USDT        0.029602\n",
      "Aave interest bearing DAI         0.022214\n",
      "dtype: float64\n",
      "\n",
      "Analysis complete.\n"
     ]
    }
   ],
   "source": [
    "import pandas as pd\n",
    "import json\n",
    "import os\n",
    "from datetime import datetime\n",
    "import matplotlib.pyplot as plt\n",
    "from tqdm import tqdm\n",
    "import threading\n",
    "import time\n",
    "\n",
    "# Set the base directory for market data\n",
    "markets_dir = r\"C:\\Users\\tfeder\\Documents\\M2 CLASSES\\Master Thesis\\AAVE_Data\\Questions\\Messari\\AAVE V2 Ethereum\\markets\"\n",
    "\n",
    "class TimeoutException(Exception):\n",
    "    pass\n",
    "\n",
    "def load_file_with_timeout(file_path, timeout=60):\n",
    "    result = []\n",
    "    \n",
    "    def target():\n",
    "        nonlocal result\n",
    "        with open(file_path, 'r') as f:\n",
    "            # Read the file in chunks\n",
    "            chunk_size = 1024 * 1024  # 1MB chunks\n",
    "            data = \"\"\n",
    "            for chunk in iter(lambda: f.read(chunk_size), \"\"):\n",
    "                data += chunk\n",
    "                if len(data) > 100 * 1024 * 1024:  # If data exceeds 100MB, process it\n",
    "                    partial_data = json.loads(data)\n",
    "                    for date, markets in partial_data.items():\n",
    "                        for market in markets:\n",
    "                            market['date'] = date\n",
    "                            result.append(market)\n",
    "                    data = \"\"\n",
    "            \n",
    "            # Process any remaining data\n",
    "            if data:\n",
    "                partial_data = json.loads(data)\n",
    "                for date, markets in partial_data.items():\n",
    "                    for market in markets:\n",
    "                        market['date'] = date\n",
    "                        result.append(market)\n",
    "\n",
    "    thread = threading.Thread(target=target)\n",
    "    thread.start()\n",
    "    thread.join(timeout)\n",
    "    if thread.is_alive():\n",
    "        raise TimeoutException(f\"Processing {file_path} took too long\")\n",
    "    return result\n",
    "\n",
    "def load_market_data(directory, timeout=300):  # Increased timeout to 5 minutes\n",
    "    all_data = []\n",
    "    files = sorted(os.listdir(directory))\n",
    "    for file in tqdm(files, desc=\"Loading files\"):\n",
    "        if file.endswith('.json'):\n",
    "            try:\n",
    "                print(f\"Processing file: {file}\")\n",
    "                start_time = time.time()\n",
    "                file_path = os.path.join(directory, file)\n",
    "                file_size = os.path.getsize(file_path) / (1024 * 1024)  # Size in MB\n",
    "                print(f\"File size: {file_size:.2f} MB\")\n",
    "                file_data = load_file_with_timeout(file_path, timeout)\n",
    "                all_data.extend(file_data)\n",
    "                processing_time = time.time() - start_time\n",
    "                print(f\"Finished processing {file} in {processing_time:.2f} seconds\")\n",
    "            except TimeoutException:\n",
    "                print(f\"Timeout occurred while processing {file}. Skipping this file.\")\n",
    "            except Exception as e:\n",
    "                print(f\"Error processing file {file}: {str(e)}\")\n",
    "                import traceback\n",
    "                traceback.print_exc()\n",
    "\n",
    "    return pd.DataFrame(all_data)\n",
    "\n",
    "print(\"Loading market data...\")\n",
    "df = load_market_data(markets_dir)\n",
    "print(\"Data loaded. Processing...\")\n",
    "\n",
    "# Convert date to datetime\n",
    "df['date'] = pd.to_datetime(df['date'])\n",
    "\n",
    "# Function to extract rates\n",
    "def extract_rates(rates):\n",
    "    try:\n",
    "        return {f\"{rate['side']}_{rate['type']}\": float(rate['rate']) for rate in rates}\n",
    "    except Exception as e:\n",
    "        print(f\"Error extracting rates: {str(e)}\")\n",
    "        return {}\n",
    "\n",
    "# Extract rates\n",
    "print(\"Extracting rates...\")\n",
    "rate_data = df['rates'].apply(extract_rates).apply(pd.Series)\n",
    "df = pd.concat([df, rate_data], axis=1)\n",
    "\n",
    "# Define low rate threshold (e.g., 0.1%)\n",
    "LOW_RATE_THRESHOLD = 0.1\n",
    "\n",
    "# Identify instances of low or zero rates\n",
    "print(\"Identifying low rates...\")\n",
    "low_rates = df[(df['LENDER_VARIABLE'] < LOW_RATE_THRESHOLD) | \n",
    "               (df['BORROWER_STABLE'] < LOW_RATE_THRESHOLD) | \n",
    "               (df['BORROWER_VARIABLE'] < LOW_RATE_THRESHOLD)]\n",
    "\n",
    "# Summary of low rate occurrences\n",
    "print(\"\\nSummary of Low Interest Rate Occurrences:\")\n",
    "print(low_rates.groupby('name').size().sort_values(ascending=False))\n",
    "\n",
    "# Detailed view of low rate instances (limit to top 10 for brevity)\n",
    "print(\"\\nDetailed view of Low Interest Rate Instances (Top 10):\")\n",
    "for _, row in low_rates.head(10).iterrows():\n",
    "    print(f\"Market: {row['name']}\")\n",
    "    print(f\"Date: {row['date']}\")\n",
    "    print(f\"Lender Variable Rate: {row.get('LENDER_VARIABLE', 'N/A')}%\")\n",
    "    print(f\"Borrower Stable Rate: {row.get('BORROWER_STABLE', 'N/A')}%\")\n",
    "    print(f\"Borrower Variable Rate: {row.get('BORROWER_VARIABLE', 'N/A')}%\")\n",
    "    print(\"---\")\n",
    "\n",
    "# Calculate the percentage of time each market had low rates\n",
    "print(\"Calculating low rate percentages...\")\n",
    "total_observations = df.groupby('name').size()\n",
    "low_rate_percentage = (low_rates.groupby('name').size() / total_observations * 100).sort_values(ascending=False)\n",
    "\n",
    "print(\"\\nPercentage of time markets had low interest rates:\")\n",
    "print(low_rate_percentage)\n",
    "\n",
    "print(\"\\nAnalysis complete.\")"
   ]
  },
  {
   "cell_type": "code",
   "execution_count": 12,
   "id": "8c3b832a",
   "metadata": {},
   "outputs": [
    {
     "name": "stderr",
     "output_type": "stream",
     "text": [
      "C:\\Users\\tfeder\\AppData\\Local\\Temp\\ipykernel_1972\\239755794.py:20: SettingWithCopyWarning: \n",
      "A value is trying to be set on a copy of a slice from a DataFrame.\n",
      "Try using .loc[row_indexer,col_indexer] = value instead\n",
      "\n",
      "See the caveats in the documentation: https://pandas.pydata.org/pandas-docs/stable/user_guide/indexing.html#returning-a-view-versus-a-copy\n",
      "  df[col] = to_numeric_safe(df[col])\n",
      "C:\\Users\\tfeder\\AppData\\Local\\Temp\\ipykernel_1972\\239755794.py:24: SettingWithCopyWarning: \n",
      "A value is trying to be set on a copy of a slice from a DataFrame.\n",
      "Try using .loc[row_indexer,col_indexer] = value instead\n",
      "\n",
      "See the caveats in the documentation: https://pandas.pydata.org/pandas-docs/stable/user_guide/indexing.html#returning-a-view-versus-a-copy\n",
      "  df['date'] = pd.to_datetime(df['date'], errors='coerce')\n"
     ]
    },
    {
     "name": "stdout",
     "output_type": "stream",
     "text": [
      "Successfully plotted interest rates for WETH\n"
     ]
    },
    {
     "name": "stderr",
     "output_type": "stream",
     "text": [
      "C:\\Users\\tfeder\\AppData\\Local\\Temp\\ipykernel_1972\\239755794.py:20: SettingWithCopyWarning: \n",
      "A value is trying to be set on a copy of a slice from a DataFrame.\n",
      "Try using .loc[row_indexer,col_indexer] = value instead\n",
      "\n",
      "See the caveats in the documentation: https://pandas.pydata.org/pandas-docs/stable/user_guide/indexing.html#returning-a-view-versus-a-copy\n",
      "  df[col] = to_numeric_safe(df[col])\n",
      "C:\\Users\\tfeder\\AppData\\Local\\Temp\\ipykernel_1972\\239755794.py:24: SettingWithCopyWarning: \n",
      "A value is trying to be set on a copy of a slice from a DataFrame.\n",
      "Try using .loc[row_indexer,col_indexer] = value instead\n",
      "\n",
      "See the caveats in the documentation: https://pandas.pydata.org/pandas-docs/stable/user_guide/indexing.html#returning-a-view-versus-a-copy\n",
      "  df['date'] = pd.to_datetime(df['date'], errors='coerce')\n"
     ]
    },
    {
     "name": "stdout",
     "output_type": "stream",
     "text": [
      "Successfully plotted interest rates for WBTC\n"
     ]
    },
    {
     "name": "stderr",
     "output_type": "stream",
     "text": [
      "C:\\Users\\tfeder\\AppData\\Local\\Temp\\ipykernel_1972\\239755794.py:20: SettingWithCopyWarning: \n",
      "A value is trying to be set on a copy of a slice from a DataFrame.\n",
      "Try using .loc[row_indexer,col_indexer] = value instead\n",
      "\n",
      "See the caveats in the documentation: https://pandas.pydata.org/pandas-docs/stable/user_guide/indexing.html#returning-a-view-versus-a-copy\n",
      "  df[col] = to_numeric_safe(df[col])\n",
      "C:\\Users\\tfeder\\AppData\\Local\\Temp\\ipykernel_1972\\239755794.py:24: SettingWithCopyWarning: \n",
      "A value is trying to be set on a copy of a slice from a DataFrame.\n",
      "Try using .loc[row_indexer,col_indexer] = value instead\n",
      "\n",
      "See the caveats in the documentation: https://pandas.pydata.org/pandas-docs/stable/user_guide/indexing.html#returning-a-view-versus-a-copy\n",
      "  df['date'] = pd.to_datetime(df['date'], errors='coerce')\n"
     ]
    },
    {
     "name": "stdout",
     "output_type": "stream",
     "text": [
      "Successfully plotted interest rates for USDC\n"
     ]
    },
    {
     "name": "stderr",
     "output_type": "stream",
     "text": [
      "C:\\Users\\tfeder\\AppData\\Local\\Temp\\ipykernel_1972\\239755794.py:20: SettingWithCopyWarning: \n",
      "A value is trying to be set on a copy of a slice from a DataFrame.\n",
      "Try using .loc[row_indexer,col_indexer] = value instead\n",
      "\n",
      "See the caveats in the documentation: https://pandas.pydata.org/pandas-docs/stable/user_guide/indexing.html#returning-a-view-versus-a-copy\n",
      "  df[col] = to_numeric_safe(df[col])\n",
      "C:\\Users\\tfeder\\AppData\\Local\\Temp\\ipykernel_1972\\239755794.py:24: SettingWithCopyWarning: \n",
      "A value is trying to be set on a copy of a slice from a DataFrame.\n",
      "Try using .loc[row_indexer,col_indexer] = value instead\n",
      "\n",
      "See the caveats in the documentation: https://pandas.pydata.org/pandas-docs/stable/user_guide/indexing.html#returning-a-view-versus-a-copy\n",
      "  df['date'] = pd.to_datetime(df['date'], errors='coerce')\n"
     ]
    },
    {
     "name": "stdout",
     "output_type": "stream",
     "text": [
      "Successfully plotted interest rates for DAI\n"
     ]
    },
    {
     "name": "stderr",
     "output_type": "stream",
     "text": [
      "C:\\Users\\tfeder\\AppData\\Local\\Temp\\ipykernel_1972\\239755794.py:20: SettingWithCopyWarning: \n",
      "A value is trying to be set on a copy of a slice from a DataFrame.\n",
      "Try using .loc[row_indexer,col_indexer] = value instead\n",
      "\n",
      "See the caveats in the documentation: https://pandas.pydata.org/pandas-docs/stable/user_guide/indexing.html#returning-a-view-versus-a-copy\n",
      "  df[col] = to_numeric_safe(df[col])\n",
      "C:\\Users\\tfeder\\AppData\\Local\\Temp\\ipykernel_1972\\239755794.py:24: SettingWithCopyWarning: \n",
      "A value is trying to be set on a copy of a slice from a DataFrame.\n",
      "Try using .loc[row_indexer,col_indexer] = value instead\n",
      "\n",
      "See the caveats in the documentation: https://pandas.pydata.org/pandas-docs/stable/user_guide/indexing.html#returning-a-view-versus-a-copy\n",
      "  df['date'] = pd.to_datetime(df['date'], errors='coerce')\n",
      "C:\\Users\\tfeder\\AppData\\Local\\Temp\\ipykernel_1972\\239755794.py:43: UserWarning: Data has no positive values, and therefore cannot be log-scaled.\n",
      "  plt.yscale('log')\n"
     ]
    },
    {
     "name": "stdout",
     "output_type": "stream",
     "text": [
      "Successfully plotted interest rates for AAVE\n"
     ]
    },
    {
     "name": "stderr",
     "output_type": "stream",
     "text": [
      "\r",
      "[*********************100%%**********************]  1 of 1 completed"
     ]
    },
    {
     "name": "stdout",
     "output_type": "stream",
     "text": [
      "WETH data columns: Index(['id', 'protocol', 'name', 'isActive', 'canBorrowFrom',\n",
      "       'canUseAsCollateral', 'maximumLTV', 'liquidationThreshold',\n",
      "       'liquidationPenalty', 'canIsolate', 'createdTimestamp',\n",
      "       'createdBlockNumber', 'oracle', 'relation', 'rewardTokens',\n",
      "       'rewardTokenEmissionsAmount', 'rewardTokenEmissionsUSD',\n",
      "       'stakedOutputTokenAmount', 'inputToken', 'inputTokenBalance',\n",
      "       'inputTokenPriceUSD', 'outputToken', 'outputTokenSupply',\n",
      "       'outputTokenPriceUSD', 'exchangeRate', 'rates', 'reserves',\n",
      "       'reserveFactor', 'totalValueLockedUSD', 'totalDepositBalanceUSD',\n",
      "       'totalBorrowBalanceUSD', 'supplyIndex', 'supplyCap', 'borrowIndex',\n",
      "       'borrowCap', 'revenueDetail', 'borrowedToken',\n",
      "       'variableBorrowedTokenBalance', 'stableBorrowedTokenBalance',\n",
      "       'indexLastUpdatedTimestamp', 'BORROWER_STABLE', 'BORROWER_VARIABLE',\n",
      "       'LENDER_VARIABLE'],\n",
      "      dtype='object')\n",
      "WETH data types: id                               object\n",
      "protocol                         object\n",
      "name                             object\n",
      "isActive                           bool\n",
      "canBorrowFrom                      bool\n",
      "canUseAsCollateral                 bool\n",
      "maximumLTV                       object\n",
      "liquidationThreshold             object\n",
      "liquidationPenalty               object\n",
      "canIsolate                         bool\n",
      "createdTimestamp                 object\n",
      "createdBlockNumber               object\n",
      "oracle                           object\n",
      "relation                         object\n",
      "rewardTokens                     object\n",
      "rewardTokenEmissionsAmount       object\n",
      "rewardTokenEmissionsUSD          object\n",
      "stakedOutputTokenAmount          object\n",
      "inputToken                       object\n",
      "inputTokenBalance                object\n",
      "inputTokenPriceUSD               object\n",
      "outputToken                      object\n",
      "outputTokenSupply                object\n",
      "outputTokenPriceUSD              object\n",
      "exchangeRate                     object\n",
      "rates                            object\n",
      "reserves                         object\n",
      "reserveFactor                    object\n",
      "totalValueLockedUSD             float64\n",
      "totalDepositBalanceUSD           object\n",
      "totalBorrowBalanceUSD           float64\n",
      "supplyIndex                      object\n",
      "supplyCap                        object\n",
      "borrowIndex                      object\n",
      "borrowCap                        object\n",
      "revenueDetail                    object\n",
      "borrowedToken                    object\n",
      "variableBorrowedTokenBalance     object\n",
      "stableBorrowedTokenBalance       object\n",
      "indexLastUpdatedTimestamp        object\n",
      "BORROWER_STABLE                 float64\n",
      "BORROWER_VARIABLE               float64\n",
      "LENDER_VARIABLE                 float64\n",
      "dtype: object\n",
      "WETH data non-null counts:\n",
      " id                              27025\n",
      "protocol                        27025\n",
      "name                            27025\n",
      "isActive                        27025\n",
      "canBorrowFrom                   27025\n",
      "canUseAsCollateral              27025\n",
      "maximumLTV                      27025\n",
      "liquidationThreshold            27025\n",
      "liquidationPenalty              27025\n",
      "canIsolate                      27025\n",
      "createdTimestamp                27025\n",
      "createdBlockNumber              27025\n",
      "oracle                          27025\n",
      "relation                            0\n",
      "rewardTokens                    27025\n",
      "rewardTokenEmissionsAmount      23504\n",
      "rewardTokenEmissionsUSD         23504\n",
      "stakedOutputTokenAmount             0\n",
      "inputToken                      27025\n",
      "inputTokenBalance               27025\n",
      "inputTokenPriceUSD              27025\n",
      "outputToken                     27025\n",
      "outputTokenSupply               27025\n",
      "outputTokenPriceUSD                 0\n",
      "exchangeRate                        0\n",
      "rates                           27025\n",
      "reserves                            0\n",
      "reserveFactor                   27025\n",
      "totalValueLockedUSD             27025\n",
      "totalDepositBalanceUSD          27025\n",
      "totalBorrowBalanceUSD           27025\n",
      "supplyIndex                     27025\n",
      "supplyCap                           0\n",
      "borrowIndex                     27025\n",
      "borrowCap                           0\n",
      "revenueDetail                   27025\n",
      "borrowedToken                       0\n",
      "variableBorrowedTokenBalance    27025\n",
      "stableBorrowedTokenBalance      27025\n",
      "indexLastUpdatedTimestamp       27025\n",
      "BORROWER_STABLE                 27025\n",
      "BORROWER_VARIABLE               27025\n",
      "LENDER_VARIABLE                 27025\n",
      "dtype: int64\n"
     ]
    },
    {
     "name": "stderr",
     "output_type": "stream",
     "text": [
      "\n"
     ]
    },
    {
     "name": "stdout",
     "output_type": "stream",
     "text": [
      "\n",
      "Correlations between Utilization Rate and Interest Rates for WETH:\n",
      "utilization_rate     1.000000\n",
      "LENDER_VARIABLE      0.523924\n",
      "BORROWER_STABLE      0.411924\n",
      "BORROWER_VARIABLE    0.467365\n",
      "Name: utilization_rate, dtype: float64\n",
      "Successfully plotted utilization vs rates for WETH\n",
      "\n",
      "Correlations between Utilization Rate and Interest Rates for WBTC:\n",
      "utilization_rate     1.000000\n",
      "LENDER_VARIABLE      0.217278\n",
      "BORROWER_STABLE      0.490384\n",
      "BORROWER_VARIABLE    0.341262\n",
      "Name: utilization_rate, dtype: float64\n",
      "Successfully plotted utilization vs rates for WBTC\n",
      "\n",
      "Correlations between Utilization Rate and Interest Rates for USDC:\n",
      "utilization_rate     1.000000\n",
      "LENDER_VARIABLE      0.636013\n",
      "BORROWER_STABLE      0.421753\n",
      "BORROWER_VARIABLE    0.493181\n",
      "Name: utilization_rate, dtype: float64\n",
      "Successfully plotted utilization vs rates for USDC\n",
      "\n",
      "Correlations between Utilization Rate and Interest Rates for DAI:\n",
      "utilization_rate     1.000000\n",
      "LENDER_VARIABLE      0.635710\n",
      "BORROWER_STABLE      0.442146\n",
      "BORROWER_VARIABLE    0.513892\n",
      "Name: utilization_rate, dtype: float64\n",
      "Successfully plotted utilization vs rates for DAI\n",
      "\n",
      "Correlations between Utilization Rate and Interest Rates for AAVE:\n",
      "utilization_rate     1.0\n",
      "LENDER_VARIABLE      NaN\n",
      "BORROWER_STABLE      NaN\n",
      "BORROWER_VARIABLE    NaN\n",
      "Name: utilization_rate, dtype: float64\n",
      "Successfully plotted utilization vs rates for AAVE\n",
      "Analysis complete. Plots have been saved as PNG files.\n"
     ]
    }
   ],
   "source": [
    "import pandas as pd\n",
    "import numpy as np\n",
    "import matplotlib.pyplot as plt\n",
    "import seaborn as sns\n",
    "import yfinance as yf\n",
    "from pandas.plotting import register_matplotlib_converters\n",
    "\n",
    "register_matplotlib_converters()\n",
    "\n",
    "def to_numeric_safe(s):\n",
    "    return pd.to_numeric(s, errors='coerce')\n",
    "\n",
    "def clean_dataframe(df):\n",
    "    # Explicitly list columns that should be numeric\n",
    "    numeric_columns = ['LENDER_VARIABLE', 'BORROWER_STABLE', 'BORROWER_VARIABLE', \n",
    "                       'totalBorrowBalanceUSD', 'totalValueLockedUSD']\n",
    "    \n",
    "    for col in numeric_columns:\n",
    "        if col in df.columns:\n",
    "            df[col] = to_numeric_safe(df[col])\n",
    "        else:\n",
    "            print(f\"Warning: Expected column '{col}' not found in dataframe\")\n",
    "    \n",
    "    df['date'] = pd.to_datetime(df['date'], errors='coerce')\n",
    "    \n",
    "    # Drop rows where all numeric columns are NaN\n",
    "    df = df.dropna(subset=numeric_columns, how='all')\n",
    "    \n",
    "    return df\n",
    "\n",
    "def plot_interest_rates_over_time(df, asset):\n",
    "    asset_data = df[df['name'] == f'Aave interest bearing {asset}']\n",
    "    asset_data = clean_dataframe(asset_data)\n",
    "    \n",
    "    plt.figure(figsize=(15, 7))\n",
    "    for col in ['LENDER_VARIABLE', 'BORROWER_STABLE', 'BORROWER_VARIABLE']:\n",
    "        if col in asset_data.columns:\n",
    "            plt.plot(asset_data['date'], asset_data[col], label=col)\n",
    "    plt.title(f'Interest Rates Over Time for {asset}')\n",
    "    plt.xlabel('Date')\n",
    "    plt.ylabel('Interest Rate (%)')\n",
    "    plt.legend()\n",
    "    plt.yscale('log')\n",
    "    plt.tight_layout()\n",
    "    plt.savefig(f'{asset}_interest_rates_over_time.png')\n",
    "    plt.close()\n",
    "\n",
    "# Plot for key assets\n",
    "key_assets = ['WETH', 'WBTC', 'USDC', 'DAI', 'AAVE']\n",
    "for asset in key_assets:\n",
    "    try:\n",
    "        plot_interest_rates_over_time(df, asset)\n",
    "        print(f\"Successfully plotted interest rates for {asset}\")\n",
    "    except Exception as e:\n",
    "        print(f\"Error plotting interest rates for {asset}: {str(e)}\")\n",
    "\n",
    "# Prepare WETH data\n",
    "weth_data = df[df['name'] == 'Aave interest bearing WETH'].copy()\n",
    "weth_data = clean_dataframe(weth_data)\n",
    "weth_data = weth_data.set_index('date')\n",
    "\n",
    "print(\"WETH data columns:\", weth_data.columns)\n",
    "print(\"WETH data types:\", weth_data.dtypes)\n",
    "print(\"WETH data non-null counts:\\n\", weth_data.count())\n",
    "\n",
    "# Fetch Ethereum price data\n",
    "eth_price = yf.download('ETH-USD', start='2020-11-30', end='2023-12-31')\n",
    "\n",
    "# Resample to daily frequency, only for numeric columns\n",
    "numeric_columns = ['LENDER_VARIABLE', 'BORROWER_STABLE', 'BORROWER_VARIABLE', \n",
    "                   'totalBorrowBalanceUSD', 'totalValueLockedUSD']\n",
    "weth_daily = weth_data[numeric_columns].resample('D').mean()\n",
    "\n",
    "# Merge WETH data with ETH price\n",
    "merged_data = pd.merge(weth_daily, eth_price['Close'], left_index=True, right_index=True, how='inner')\n",
    "merged_data.columns = [*merged_data.columns[:-1], 'ETH_PRICE']\n",
    "\n",
    "# Calculate correlations\n",
    "correlation_columns = [col for col in ['LENDER_VARIABLE', 'BORROWER_STABLE', 'BORROWER_VARIABLE', 'ETH_PRICE'] if col in merged_data.columns]\n",
    "correlations = merged_data[correlation_columns].corr()\n",
    "\n",
    "# Plot correlation heatmap\n",
    "plt.figure(figsize=(10, 8))\n",
    "sns.heatmap(correlations, annot=True, cmap='coolwarm', vmin=-1, vmax=1, center=0)\n",
    "plt.title('Correlation between WETH Interest Rates and ETH Price')\n",
    "plt.tight_layout()\n",
    "plt.savefig('WETH_ETH_correlation_heatmap.png')\n",
    "plt.close()\n",
    "\n",
    "def plot_utilization_vs_rates(df, asset):\n",
    "    asset_data = df[df['name'] == f'Aave interest bearing {asset}'].copy()\n",
    "    asset_data = clean_dataframe(asset_data)\n",
    "    if 'totalBorrowBalanceUSD' in asset_data.columns and 'totalValueLockedUSD' in asset_data.columns:\n",
    "        asset_data['utilization_rate'] = asset_data['totalBorrowBalanceUSD'] / asset_data['totalValueLockedUSD']\n",
    "    else:\n",
    "        print(f\"Warning: Unable to calculate utilization rate for {asset}\")\n",
    "        return\n",
    "\n",
    "    fig, axes = plt.subplots(3, 1, figsize=(15, 20))\n",
    "    \n",
    "    for ax, col in zip(axes, ['LENDER_VARIABLE', 'BORROWER_STABLE', 'BORROWER_VARIABLE']):\n",
    "        if col in asset_data.columns:\n",
    "            sns.scatterplot(data=asset_data, x='utilization_rate', y=col, ax=ax)\n",
    "            ax.set_title(f'{asset} Utilization Rate vs {col}')\n",
    "            ax.set_xlabel('Utilization Rate')\n",
    "            ax.set_ylabel('Interest Rate (%)')\n",
    "    \n",
    "    plt.tight_layout()\n",
    "    plt.savefig(f'{asset}_utilization_vs_rates.png')\n",
    "    plt.close()\n",
    "\n",
    "    # Calculate and print correlations\n",
    "    correlation_columns = ['utilization_rate', 'LENDER_VARIABLE', 'BORROWER_STABLE', 'BORROWER_VARIABLE']\n",
    "    correlation_columns = [col for col in correlation_columns if col in asset_data.columns]\n",
    "    correlations = asset_data[correlation_columns].corr()['utilization_rate']\n",
    "    print(f\"\\nCorrelations between Utilization Rate and Interest Rates for {asset}:\")\n",
    "    print(correlations)\n",
    "\n",
    "# Analyze utilization vs rates for key assets\n",
    "for asset in key_assets:\n",
    "    try:\n",
    "        plot_utilization_vs_rates(df, asset)\n",
    "        print(f\"Successfully plotted utilization vs rates for {asset}\")\n",
    "    except Exception as e:\n",
    "        print(f\"Error plotting utilization vs rates for {asset}: {str(e)}\")\n",
    "\n",
    "print(\"Analysis complete. Plots have been saved as PNG files.\")"
   ]
  },
  {
   "cell_type": "code",
   "execution_count": 17,
   "id": "ea07bdce",
   "metadata": {},
   "outputs": [
    {
     "name": "stdout",
     "output_type": "stream",
     "text": [
      "Loading market data...\n"
     ]
    },
    {
     "ename": "KeyboardInterrupt",
     "evalue": "",
     "output_type": "error",
     "traceback": [
      "\u001b[1;31m---------------------------------------------------------------------------\u001b[0m",
      "\u001b[1;31mKeyboardInterrupt\u001b[0m                         Traceback (most recent call last)",
      "File \u001b[1;32mC:\\ProgramData\\anaconda3\\Lib\\codeop.py:117\u001b[0m, in \u001b[0;36mCompile.__call__\u001b[1;34m(self, source, filename, symbol)\u001b[0m\n\u001b[0;32m    114\u001b[0m \u001b[38;5;28;01mdef\u001b[39;00m \u001b[38;5;21m__init__\u001b[39m(\u001b[38;5;28mself\u001b[39m):\n\u001b[0;32m    115\u001b[0m     \u001b[38;5;28mself\u001b[39m\u001b[38;5;241m.\u001b[39mflags \u001b[38;5;241m=\u001b[39m PyCF_DONT_IMPLY_DEDENT \u001b[38;5;241m|\u001b[39m PyCF_ALLOW_INCOMPLETE_INPUT\n\u001b[1;32m--> 117\u001b[0m \u001b[38;5;28;01mdef\u001b[39;00m \u001b[38;5;21m__call__\u001b[39m(\u001b[38;5;28mself\u001b[39m, source, filename, symbol):\n\u001b[0;32m    118\u001b[0m     codeob \u001b[38;5;241m=\u001b[39m \u001b[38;5;28mcompile\u001b[39m(source, filename, symbol, \u001b[38;5;28mself\u001b[39m\u001b[38;5;241m.\u001b[39mflags, \u001b[38;5;28;01mTrue\u001b[39;00m)\n\u001b[0;32m    119\u001b[0m     \u001b[38;5;28;01mfor\u001b[39;00m feature \u001b[38;5;129;01min\u001b[39;00m _features:\n",
      "\u001b[1;31mKeyboardInterrupt\u001b[0m: "
     ]
    }
   ],
   "source": [
    "import pandas as pd\n",
    "import json\n",
    "import os\n",
    "from datetime import datetime\n",
    "\n",
    "# Set the base directory for market data\n",
    "markets_dir = r\"C:\\Users\\tfeder\\Documents\\M2 CLASSES\\Master Thesis\\AAVE_Data\\Questions\\Messari\\AAVE V2 Ethereum\\markets\"\n",
    "\n",
    "def load_market_data(directory):\n",
    "    all_data = []\n",
    "    for file in os.listdir(directory):\n",
    "        if file.endswith('.json'):\n",
    "            with open(os.path.join(directory, file), 'r') as f:\n",
    "                data = json.load(f)\n",
    "                for date, markets in data.items():\n",
    "                    for market in markets:\n",
    "                        market['date'] = date\n",
    "                        all_data.append(market)\n",
    "    return pd.DataFrame(all_data)\n",
    "\n",
    "print(\"Loading market data...\")\n",
    "df = load_market_data(markets_dir)\n",
    "print(\"Data loaded. Processing...\")\n",
    "\n",
    "# Convert date to datetime\n",
    "df['date'] = pd.to_datetime(df['date'])\n",
    "\n",
    "# Function to check for liquidations\n",
    "def check_liquidations(df):\n",
    "    liquidations = df[df['revenueDetail'].apply(lambda x: 'LIQUIDATION' in str(x))]\n",
    "    return liquidations\n",
    "\n",
    "# Get liquidation events\n",
    "liquidations = check_liquidations(df)\n",
    "\n",
    "if liquidations.empty:\n",
    "    print(\"No liquidations found in the dataset.\")\n",
    "else:\n",
    "    print(f\"Found {len(liquidations)} liquidation events.\")\n",
    "    \n",
    "    # Group liquidations by asset\n",
    "    liquidations_by_asset = liquidations.groupby('name').size().sort_values(descending=True)\n",
    "    \n",
    "    print(\"\\nLiquidations by asset:\")\n",
    "    print(liquidations_by_asset)\n",
    "    \n",
    "    # Get total liquidation value\n",
    "    liquidations['liquidation_value'] = liquidations['revenueDetail'].apply(\n",
    "        lambda x: sum(float(detail['amount']) for detail in x if 'LIQUIDATION' in detail['type'])\n",
    "    )\n",
    "    total_liquidation_value = liquidations['liquidation_value'].sum()\n",
    "    \n",
    "    print(f\"\\nTotal liquidation value: ${total_liquidation_value:.2f}\")\n",
    "    \n",
    "    # Get liquidation timeline\n",
    "    liquidations_timeline = liquidations.groupby('date').size()\n",
    "    \n",
    "    print(\"\\nLiquidation timeline (top 10 days):\")\n",
    "    print(liquidations_timeline.sort_values(descending=True).head(10))\n",
    "    \n",
    "    # Get largest single liquidation\n",
    "    largest_liquidation = liquidations.loc[liquidations['liquidation_value'].idxmax()]\n",
    "    \n",
    "    print(\"\\nLargest single liquidation:\")\n",
    "    print(f\"Asset: {largest_liquidation['name']}\")\n",
    "    print(f\"Date: {largest_liquidation['date']}\")\n",
    "    print(f\"Value: ${largest_liquidation['liquidation_value']:.2f}\")\n",
    "\n",
    "print(\"\\nAnalysis complete.\")"
   ]
  },
  {
   "cell_type": "code",
   "execution_count": null,
   "id": "e8032851",
   "metadata": {},
   "outputs": [],
   "source": []
  }
 ],
 "metadata": {
  "kernelspec": {
   "display_name": "Python 3 (ipykernel)",
   "language": "python",
   "name": "python3"
  },
  "language_info": {
   "codemirror_mode": {
    "name": "ipython",
    "version": 3
   },
   "file_extension": ".py",
   "mimetype": "text/x-python",
   "name": "python",
   "nbconvert_exporter": "python",
   "pygments_lexer": "ipython3",
   "version": "3.11.5"
  }
 },
 "nbformat": 4,
 "nbformat_minor": 5
}
